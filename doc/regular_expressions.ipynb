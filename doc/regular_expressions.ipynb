{
 "cells": [
  {
   "cell_type": "markdown",
   "metadata": {
    "pycharm": {}
   },
   "source": [
    "# Regular Expressions\n",
    "\n",
    "\n",
    "## Table of Contents\n",
    "\n",
    "* [Turn 0](#Turn-0)\n",
    "* [Turn 1](#Turn-1)\n",
    "* [Turn 2](#Turn-2)\n",
    "* [References](#References)\n",
    "\n",
    "\n",
    "\n",
    "## Task\n",
    "\n",
    "Our task is to develop a chatbot that can talk about smartphones.\n",
    "Here is an example dialogue (`S`: system, `U`: user):\n",
    "\n",
    "```\n",
    "S0: are you using a smartphone?\n",
    "U0: yes, i have an iphone.\n",
    "S1: how long have you been using iphone?\n",
    "U1: about 2 years.\n",
    "S2: oh, are you using iphone 10s or 10s max?\n",
    "U2: no, i'm using iphone 6s plus.\n",
    "S3: iphone 6s plus is about 5 years old.\n",
    "```"
   ]
  },
  {
   "cell_type": "markdown",
   "metadata": {
    "pycharm": {}
   },
   "source": [
    "## Turn 0\n",
    "\n",
    "Given the following question initiated by the system:\n",
    "\n",
    "> S0: are you using a smartphone?\n",
    "\n",
    "We expect either `Yes`, `No`, or `None` as the user response."
   ]
  },
  {
   "cell_type": "markdown",
   "metadata": {
    "pycharm": {}
   },
   "source": [
    "### Response: `Yes`\n",
    "\n",
    "The following code defines a group `(yes|yeah)` in the regular expression that matches the literals:"
   ]
  },
  {
   "cell_type": "code",
   "execution_count": 1,
   "metadata": {
    "pycharm": {}
   },
   "outputs": [
    {
     "name": "stdout",
     "output_type": "stream",
     "text": [
      "<re.Match object; span=(0, 4), match='yeah'>\n"
     ]
    }
   ],
   "source": [
    "import re\n",
    "\n",
    "re_yn = re.compile(r'(yes|yeah)')\n",
    "m = re_yn.match('yeah, i am')\n",
    "print(m)"
   ]
  },
  {
   "cell_type": "markdown",
   "metadata": {
    "pycharm": {}
   },
   "source": [
    "If there is a match, we can retrive the literal:"
   ]
  },
  {
   "cell_type": "code",
   "execution_count": 2,
   "metadata": {
    "pycharm": {}
   },
   "outputs": [
    {
     "name": "stdout",
     "output_type": "stream",
     "text": [
      "yeah\n"
     ]
    }
   ],
   "source": [
    "if m:\n",
    "    yes = m.group()\n",
    "    print(yes)"
   ]
  },
  {
   "cell_type": "markdown",
   "metadata": {
    "pycharm": {}
   },
   "source": [
    "If no match is found, it returns `None`:"
   ]
  },
  {
   "cell_type": "code",
   "execution_count": 3,
   "metadata": {
    "pycharm": {}
   },
   "outputs": [
    {
     "name": "stdout",
     "output_type": "stream",
     "text": [
      "None\n"
     ]
    }
   ],
   "source": [
    "m = re_yn.match('sure, i am')\n",
    "print(m)"
   ]
  },
  {
   "cell_type": "markdown",
   "metadata": {
    "pycharm": {}
   },
   "source": [
    "### Issue 1\n",
    "\n",
    "`re_yn` can overmatch:"
   ]
  },
  {
   "cell_type": "code",
   "execution_count": 4,
   "metadata": {
    "pycharm": {}
   },
   "outputs": [
    {
     "name": "stdout",
     "output_type": "stream",
     "text": [
      "yes\n"
     ]
    }
   ],
   "source": [
    "m = re_yn.match('yesterday was my birthday')\n",
    "if m: print(m.group())"
   ]
  },
  {
   "cell_type": "markdown",
   "metadata": {
    "pycharm": {}
   },
   "source": [
    "Match only if the literals are followed by a space (`\\s`), a comma (`,`), a period (`\\.`), or the end of the string (`$`):"
   ]
  },
  {
   "cell_type": "code",
   "execution_count": 5,
   "metadata": {
    "pycharm": {}
   },
   "outputs": [
    {
     "name": "stdout",
     "output_type": "stream",
     "text": [
      "None\n",
      "('yes', ',')\n",
      "0 yes,\n",
      "1 yes\n"
     ]
    }
   ],
   "source": [
    "re_yn = re.compile(r'(yes|yeah)(\\s|,|\\.|$)')\n",
    "\n",
    "m = re_yn.match('yesterday was my birthday')\n",
    "print(m)\n",
    "\n",
    "m = re_yn.match('yes, i am')\n",
    "print(m.groups())\n",
    "for i in range(len(m.groups())): print(i, m.group(i))"
   ]
  },
  {
   "cell_type": "markdown",
   "metadata": {
    "pycharm": {}
   },
   "source": [
    "Exclude the second group from capturing with `?:`:"
   ]
  },
  {
   "cell_type": "code",
   "execution_count": 6,
   "metadata": {
    "pycharm": {}
   },
   "outputs": [
    {
     "name": "stdout",
     "output_type": "stream",
     "text": [
      "0 yes,\n"
     ]
    }
   ],
   "source": [
    "re_yn = re.compile(r'(yes|yeah)(?:\\s|,|\\.|$)')\n",
    "\n",
    "m = re_yn.match('yes, i am')\n",
    "for i in range(len(m.groups())): print(i, m.group(i))"
   ]
  },
  {
   "cell_type": "markdown",
   "metadata": {
    "pycharm": {}
   },
   "source": [
    "### Issue 2\n",
    "\n",
    "`re_yn` matches only from the beginning of the string:"
   ]
  },
  {
   "cell_type": "code",
   "execution_count": 7,
   "metadata": {
    "pycharm": {}
   },
   "outputs": [
    {
     "name": "stdout",
     "output_type": "stream",
     "text": [
      "None\n"
     ]
    }
   ],
   "source": [
    "m = re_yn.match('well, yes I am')\n",
    "print(m)"
   ]
  },
  {
   "cell_type": "markdown",
   "metadata": {
    "pycharm": {}
   },
   "source": [
    "Allow the regular expression to match the literals with zero-to-many prior characters (`.*`) followed by a space (`\\s`) or the beginning of the string (`^`):"
   ]
  },
  {
   "cell_type": "code",
   "execution_count": 8,
   "metadata": {
    "pycharm": {}
   },
   "outputs": [
    {
     "name": "stdout",
     "output_type": "stream",
     "text": [
      "yeah\n",
      "yes\n"
     ]
    }
   ],
   "source": [
    "re_yn = re.compile(r'(?:.*)(?:\\s|^)(yes|yeah)(?:\\s|,|\\.|$)')\n",
    "\n",
    "m = re_yn.match('yeah, I am')\n",
    "if m: print(m.group(1))\n",
    "\n",
    "m = re_yn.match('well yes I am')\n",
    "if m: print(m.group(1))"
   ]
  },
  {
   "cell_type": "markdown",
   "metadata": {
    "pycharm": {}
   },
   "source": [
    "### Response: `No`\n",
    "\n",
    "Define another group `(no|not really)` in the same reqular expression that matches the literals:"
   ]
  },
  {
   "cell_type": "code",
   "execution_count": 9,
   "metadata": {
    "pycharm": {}
   },
   "outputs": [
    {
     "name": "stdout",
     "output_type": "stream",
     "text": [
      "('yes', None)\n",
      "(None, 'no')\n"
     ]
    }
   ],
   "source": [
    "re_yn = re.compile(r'(?:.*)(?:\\s|^)(yes|yeah)|(no|not really)(?:\\s|,|\\.|$)')\n",
    "\n",
    "m = re_yn.match('yes, I am')\n",
    "if m: print(m.groups())\n",
    "    \n",
    "m = re_yn.match('no I am not')\n",
    "if m: print(m.groups())"
   ]
  },
  {
   "cell_type": "markdown",
   "metadata": {
    "pycharm": {}
   },
   "source": [
    "### Issue\n",
    "\n",
    "The matching stops after the first match:"
   ]
  },
  {
   "cell_type": "code",
   "execution_count": 10,
   "metadata": {
    "pycharm": {}
   },
   "outputs": [
    {
     "name": "stdout",
     "output_type": "stream",
     "text": [
      "('yes', None)\n"
     ]
    }
   ],
   "source": [
    "m = re_yn.match('yes or no')\n",
    "if m: print(m.groups())"
   ]
  },
  {
   "cell_type": "markdown",
   "metadata": {
    "pycharm": {}
   },
   "source": [
    "Use the `findall` method instead of `match`:"
   ]
  },
  {
   "cell_type": "code",
   "execution_count": 11,
   "metadata": {
    "pycharm": {}
   },
   "outputs": [
    {
     "name": "stdout",
     "output_type": "stream",
     "text": [
      "('yes', '')\n",
      "('', 'no')\n"
     ]
    }
   ],
   "source": [
    "re_yn = re.compile(r'(?:\\s|^)(yes|yeah)|(no|not really)(?:\\s|,|\\.|$)')\n",
    "ts = re_yn.findall('yes or no')\n",
    "for t in ts: print(t)"
   ]
  },
  {
   "cell_type": "markdown",
   "metadata": {
    "pycharm": {}
   },
   "source": [
    "### Regex Matcher\n",
    "\n",
    "Write a function that returns a list of literals defined in the regular expression matching the input string:"
   ]
  },
  {
   "cell_type": "code",
   "execution_count": 12,
   "metadata": {
    "pycharm": {}
   },
   "outputs": [],
   "source": [
    "from typing import List\n",
    "from re import Pattern\n",
    "\n",
    "def regex_matcher(regex: Pattern, instr: str) -> List[str]:\n",
    "    ts = [None] * regex.groups\n",
    "    \n",
    "    for t in regex.findall(instr):\n",
    "        if isinstance(t, str): t = [t]\n",
    "        for i, literal in enumerate(t):\n",
    "            if ts[i] is None and literal:\n",
    "                ts[i] = literal\n",
    "    \n",
    "    return ts"
   ]
  },
  {
   "cell_type": "code",
   "execution_count": 13,
   "metadata": {
    "pycharm": {}
   },
   "outputs": [
    {
     "name": "stdout",
     "output_type": "stream",
     "text": [
      "['yes', None]\n",
      "[None, 'no']\n",
      "['yes', 'no']\n",
      "[None, None]\n"
     ]
    }
   ],
   "source": [
    "print(regex_matcher(re_yn, 'yes, I am'))\n",
    "print(regex_matcher(re_yn, 'no I am not'))\n",
    "print(regex_matcher(re_yn, 'yes or no'))\n",
    "print(regex_matcher(re_yn, 'I have an iphone'))"
   ]
  },
  {
   "cell_type": "markdown",
   "metadata": {
    "pycharm": {}
   },
   "source": [
    "### Response: Phone Model\n",
    "\n",
    "The `yes/no` response can be followed by the user's specific phone model."
   ]
  },
  {
   "cell_type": "code",
   "execution_count": 53,
   "metadata": {
    "pycharm": {}
   },
   "outputs": [
    {
     "name": "stdout",
     "output_type": "stream",
     "text": [
      "[None, 'iphone']\n",
      "['google', 'pixel']\n",
      "[None, 'galaxy']\n"
     ]
    }
   ],
   "source": [
    "re_phone = re.compile(r'(?:\\s|^)(apple|google|samsung)|(iphone|pixel|galaxy|android)(?:\\s|,|\\.|$)')\n",
    "\n",
    "print(regex_matcher(re_phone, 'yes I have an iphone'))\n",
    "print(regex_matcher(re_phone, 'yes I have google pixel'))\n",
    "print(regex_matcher(re_phone, 'yes I have a galaxy phone'))"
   ]
  },
  {
   "cell_type": "markdown",
   "metadata": {
    "pycharm": {}
   },
   "source": [
    "### Put Together"
   ]
  },
  {
   "cell_type": "markdown",
   "metadata": {
    "pycharm": {}
   },
   "source": [
    "Create the [SimpleNamespace](https://docs.python.org/3/library/types.html#types.SimpleNamespace) `regs` containing all regular expressions:"
   ]
  },
  {
   "cell_type": "code",
   "execution_count": 15,
   "metadata": {
    "pycharm": {}
   },
   "outputs": [],
   "source": [
    "from types import SimpleNamespace\n",
    "\n",
    "res = SimpleNamespace()\n",
    "res.re_yn = re.compile(r'(?:\\s|^)(yes|yeah)|(no|not really)(?:\\s|,|\\.|$)')\n",
    "res.re_phone = re.compile(r'(?:\\s|^)(apple|google|samsung)|(iphone|pixel|galaxy|android)(?:\\s|,|\\.|$)')"
   ]
  },
  {
   "cell_type": "markdown",
   "metadata": {
    "pycharm": {}
   },
   "source": [
    "Write a function to handle `Turn 0`:"
   ]
  },
  {
   "cell_type": "code",
   "execution_count": 16,
   "metadata": {
    "pycharm": {}
   },
   "outputs": [],
   "source": [
    "from typing import Any\n",
    "\n",
    "def turn_0(res: SimpleNamespace):\n",
    "    s = 'S: are you using a smartphone?'\n",
    "    u = input(s + '\\nU: ')\n",
    "\n",
    "    yn = regex_matcher(res.re_yn, u)\n",
    "    phone = regex_matcher(res.re_phone, u)\n",
    "    res.in_phone_company = phone[0]\n",
    "    res.in_phone_name = phone[1]\n",
    "\n",
    "    if any(phone):\n",
    "        turn_1a(res)\n",
    "    elif yn[0]:\n",
    "        turn_1b(res)\n",
    "    elif yn[1]:\n",
    "        turn_1c(res)\n",
    "\n",
    "    print('S: good bye!')\n",
    "\n",
    "def turn_1a(res: SimpleNamespace):\n",
    "    p = res.in_phone_name if res.in_phone_name else res.in_phone_company\n",
    "    s = 'S: how long have you been using {}?'.format(p)\n",
    "    u = input(s + '\\nU: ')\n",
    "\n",
    "def turn_1b(res: SimpleNamespace):\n",
    "    s = 'S: what kind of smartphone do you have?'\n",
    "    u = input(s + '\\nU: ')\n",
    "    # TODO: to be filled\n",
    "\n",
    "def turn_1c(res: SimpleNamespace):\n",
    "    s = 'really? you should consider getting one.'\n",
    "    print(s)"
   ]
  },
  {
   "cell_type": "code",
   "execution_count": 17,
   "metadata": {
    "pycharm": {}
   },
   "outputs": [
    {
     "name": "stdout",
     "output_type": "stream",
     "text": [
      "S: are you using a smartphone?\n",
      "U: yes, i have an iphone\n",
      "S: how long have you been using iphone?\n",
      "U: about 2 years\n",
      "S: good bye!\n"
     ]
    }
   ],
   "source": [
    "turn_0(res)"
   ]
  },
  {
   "cell_type": "markdown",
   "metadata": {
    "pycharm": {}
   },
   "source": [
    "## Turn 1\n",
    "\n",
    "Given the following question:\n",
    "\n",
    "> S1: how long have you been using iphone?\n",
    "\n",
    "We expect date information from the user."
   ]
  },
  {
   "cell_type": "markdown",
   "metadata": {
    "pycharm": {}
   },
   "source": [
    "### Response: Duration\n",
    "\n",
    "Write a regular expression that captures the duration:"
   ]
  },
  {
   "cell_type": "code",
   "execution_count": 18,
   "metadata": {
    "pycharm": {}
   },
   "outputs": [
    {
     "name": "stdout",
     "output_type": "stream",
     "text": [
      "['2', 'year']\n",
      "['6', 'month']\n",
      "['1', 'year']\n"
     ]
    }
   ],
   "source": [
    "res.re_duration = re.compile(r'(?:\\s|^)(\\d+)(?:\\s|-)+(month|year)')\n",
    "\n",
    "print(regex_matcher(res.re_duration, 'about 2 years'))\n",
    "print(regex_matcher(res.re_duration, 'over 6-months'))\n",
    "print(regex_matcher(res.re_duration, 'almost 1 - year'))"
   ]
  },
  {
   "cell_type": "markdown",
   "metadata": {
    "pycharm": {}
   },
   "source": [
    "Infer the month and the year of user's phone from the duration:"
   ]
  },
  {
   "cell_type": "code",
   "execution_count": 41,
   "metadata": {
    "pycharm": {}
   },
   "outputs": [
    {
     "name": "stdout",
     "output_type": "stream",
     "text": [
      "2019 7\n"
     ]
    }
   ],
   "source": [
    "duration = regex_matcher(res.re_duration, '6 months')\n",
    "res.in_phone_year, res.in_phone_month = None, 1\n",
    "curr_year, curr_month = 2020, 1\n",
    "\n",
    "if all(duration):\n",
    "    d = int(duration[0])\n",
    "    m = duration[1]\n",
    "    if m == 'year':\n",
    "        res.in_phone_year = curr_year - d\n",
    "    elif m == 'month':\n",
    "        res.in_phone_year = curr_year - int(d / 12)\n",
    "        res.in_phone_month = curr_month - (d % 12)\n",
    "        if res.in_phone_month <= 0:\n",
    "            month_diff = abs(res.in_phone_month)\n",
    "            res.in_phone_month = 12 - month_diff\n",
    "            res.in_phone_year -= 1\n",
    "\n",
    "print(res.in_phone_year, res.in_phone_month)"
   ]
  },
  {
   "cell_type": "markdown",
   "metadata": {
    "pycharm": {}
   },
   "source": [
    "### Response: From Date\n",
    "\n",
    "Alternatively, the user may response with the from date:"
   ]
  },
  {
   "cell_type": "code",
   "execution_count": 52,
   "metadata": {
    "pycharm": {}
   },
   "outputs": [
    {
     "name": "stdout",
     "output_type": "stream",
     "text": [
      "['September', '2018']\n",
      "[None, '2017']\n"
     ]
    }
   ],
   "source": [
    "res.re_from_date = re.compile(r'(?:\\s|^)(?:since|from)\\s(?:(january|february|march|april|may|june|july|august|[sS]eptember|october|november|december)\\s)?(\\d{2,4})')\n",
    "\n",
    "print(regex_matcher(res.re_from_date, 'since September 2018'))\n",
    "print(regex_matcher(res.re_from_date, 'from 2017'))"
   ]
  },
  {
   "cell_type": "markdown",
   "metadata": {
    "pycharm": {}
   },
   "source": [
    "Create a dictionary that maps months in string to their corresponding numbers:"
   ]
  },
  {
   "cell_type": "code",
   "execution_count": 44,
   "metadata": {
    "pycharm": {}
   },
   "outputs": [
    {
     "data": {
      "text/plain": [
       "{'january': 1,\n",
       " 'february': 2,\n",
       " 'march': 3,\n",
       " 'april': 4,\n",
       " 'may': 5,\n",
       " 'june': 6,\n",
       " 'july': 7,\n",
       " 'august': 8,\n",
       " 'september': 9,\n",
       " 'october': 10,\n",
       " 'november': 11,\n",
       " 'december': 12}"
      ]
     },
     "execution_count": 44,
     "metadata": {},
     "output_type": "execute_result"
    }
   ],
   "source": [
    "res.d_month_to_number = {\n",
    "    month: i for i, month in enumerate(\n",
    "        ['january','february','march','april','may','june',\n",
    "         'july','august','september','october','november','december'], start=1)}\n",
    "res.d_month_to_number"
   ]
  },
  {
   "cell_type": "markdown",
   "metadata": {
    "pycharm": {}
   },
   "source": [
    "Store the year and the month of user's phone:"
   ]
  },
  {
   "cell_type": "code",
   "execution_count": 46,
   "metadata": {
    "pycharm": {}
   },
   "outputs": [
    {
     "name": "stdout",
     "output_type": "stream",
     "text": [
      "2018 9\n"
     ]
    }
   ],
   "source": [
    "from_date = regex_matcher(res.re_from_date, 'since september 2018')\n",
    "res.in_phone_year, res.in_phone_month = None, 1\n",
    "\n",
    "if any(from_date):\n",
    "    res.in_phone_year = int(from_date[1])\n",
    "    if res.in_phone_year <= 20: res.in_phone_year += 2000\n",
    "    res.in_phone_month = res.d_month_to_number[from_date[0]] if from_date[0] else 1\n",
    "\n",
    "print(res.in_phone_year, res.in_phone_month)"
   ]
  },
  {
   "cell_type": "markdown",
   "metadata": {
    "pycharm": {}
   },
   "source": [
    "Finally, predict the model "
   ]
  },
  {
   "cell_type": "code",
   "execution_count": 23,
   "metadata": {
    "pycharm": {}
   },
   "outputs": [
    {
     "name": "stdout",
     "output_type": "stream",
     "text": [
      "S: oh, are you using iphone 10s or 10s max?\n",
      "U: no, i'm using iphone 6s plus\n"
     ]
    }
   ],
   "source": [
    "res.d_iphone = {\n",
    "    2019: [(9, ['11', '11 pro', '11 pro max'])], \n",
    "    2018: [(9, ['10s', '10s max'])], \n",
    "    2017: [(11, ['10']), (9, ['8', '8 plus'])], \n",
    "    2016: [(9, ['7', '7 plus'])], \n",
    "    2015: [(9, ['6s', '6s plus'])], \n",
    "    2014: [(9, ['6', '6 plus'])]}\n",
    "\n",
    "r = res.d_iphone.get(res.in_phone_year, None)\n",
    "if r:\n",
    "    v = next(models for month, models in r if month <= res.in_phone_month)\n",
    "    res.in_phone_version = ' or '.join(v)\n",
    "    s = 'S: oh, are you using iphone {}?'.format(res.in_phone_version)\n",
    "    u = input(s + '\\nU: ')"
   ]
  },
  {
   "cell_type": "markdown",
   "metadata": {
    "pycharm": {}
   },
   "source": [
    "### Put Together\n",
    "\n",
    "Write a function to handle `Turn 1a`:"
   ]
  },
  {
   "cell_type": "code",
   "execution_count": 47,
   "metadata": {
    "pycharm": {}
   },
   "outputs": [],
   "source": [
    "def turn_1a(res: SimpleNamespace):\n",
    "    p = res.in_phone_name if res.in_phone_name else res.in_phone_company\n",
    "    s = 'S: how long have you been using {}?'.format(p)\n",
    "    u = input(s + '\\nU: ')\n",
    "\n",
    "    duration = regex_matcher(res.re_duration, u)\n",
    "    from_date = regex_matcher(res.re_from_date, u)\n",
    "\n",
    "    res.in_phone_year, res.in_phone_month = None, 1\n",
    "    curr_year, curr_month = 2020, 1\n",
    "\n",
    "    if all(duration):\n",
    "        d = int(duration[0])\n",
    "        m = duration[1]\n",
    "        if m == 'year':\n",
    "            res.in_phone_year = curr_year - d\n",
    "        elif m == 'month':\n",
    "            res.in_phone_year = curr_year - int(d / 12)\n",
    "            res.in_phone_month = curr_month - (d % 12)\n",
    "            if res.in_phone_month <= 0:\n",
    "                month_diff = abs(res.in_phone_month)\n",
    "                res.in_phone_month = 12 - month_diff\n",
    "                res.in_phone_year -= 1\n",
    "    elif any(from_date):\n",
    "        res.in_phone_year = int(from_date[1])\n",
    "        res.in_phone_month = res.d_month_to_number[from_date[0]] if from_date[0] else 1\n",
    "\n",
    "    if res.in_phone_year:\n",
    "        if res.in_phone_name == 'iphone' or res.in_phone_company == 'apple':\n",
    "            turn_2a(res)\n",
    "\n",
    "def turn_2a(res: SimpleNamespace):\n",
    "    r = res.d_iphone.get(res.in_phone_year, None)\n",
    "    res.in_phone_version = None\n",
    "    \n",
    "    if r:\n",
    "        v = next(models for month, models in r if month <= res.in_phone_month)\n",
    "        res.in_phone_version = v\n",
    "        s = 'S: oh, are you using iphone {}?'.format(' or '.join(v))\n",
    "        u = input(s + '\\nU: ')\n",
    "    else:\n",
    "        s = 'S: which version of iphone is your model?'\n",
    "        u = input(s + '\\nU: ')"
   ]
  },
  {
   "cell_type": "code",
   "execution_count": 48,
   "metadata": {
    "pycharm": {}
   },
   "outputs": [
    {
     "name": "stdout",
     "output_type": "stream",
     "text": [
      "S: are you using a smartphone?\n",
      "U: yes i have an iphone\n",
      "S: how long have you been using iphone?\n",
      "U: about 2 years\n",
      "S: oh, are you using iphone 10s or 10s max?\n",
      "U: no i'm using iphone 6s plus\n",
      "S: good bye!\n"
     ]
    }
   ],
   "source": [
    "turn_0(res)"
   ]
  },
  {
   "cell_type": "markdown",
   "metadata": {
    "pycharm": {}
   },
   "source": [
    "## Turn 2\n",
    "\n",
    "Given the following question:\n",
    "\n",
    "> S2: oh, are you using iphone 10s or 10s max?\n",
    "\n",
    "We expect the user would response with the specific version of the phone"
   ]
  },
  {
   "cell_type": "markdown",
   "metadata": {
    "pycharm": {}
   },
   "source": [
    "### Response: Phone Version\n",
    "\n",
    "Write a regular expression to extract the version of iPhone:"
   ]
  },
  {
   "cell_type": "code",
   "execution_count": 49,
   "metadata": {
    "pycharm": {}
   },
   "outputs": [
    {
     "name": "stdout",
     "output_type": "stream",
     "text": [
      "['6s plus']\n",
      "['12']\n"
     ]
    }
   ],
   "source": [
    "res.re_iphone_version = re.compile(r'(?:\\s|^)(?:iphone|version)\\s(\\d+s?(?: (?:plus|max))?)(?:\\s|,|\\.|$)')\n",
    "\n",
    "print(regex_matcher(res.re_iphone_version, 'iphone 6s plus'))\n",
    "print(regex_matcher(res.re_iphone_version, 'version 12'))"
   ]
  },
  {
   "cell_type": "code",
   "execution_count": 50,
   "metadata": {
    "pycharm": {}
   },
   "outputs": [],
   "source": [
    "def turn_2a(res: SimpleNamespace):\n",
    "    r = res.d_iphone.get(res.in_phone_year, None)\n",
    "    res.in_phone_version = None\n",
    "\n",
    "    if r:\n",
    "        v = next(models for month, models in r if month <= res.in_phone_month)\n",
    "        res.in_phone_version = v[0]\n",
    "        s = 'S: oh, are you using iphone {}?'.format(' or '.join(v))\n",
    "        u = input(s + '\\nU: ')\n",
    "\n",
    "        yn = regex_matcher(res.re_yn, u)\n",
    "        if yn[1]: res.in_phone_version = None\n",
    "    else:\n",
    "        s = 'S: which version of iphone is your model?'\n",
    "        u = input(s + '\\nU: ')\n",
    "\n",
    "    version = regex_matcher(res.re_iphone_version, u)\n",
    "    if version[0]: res.in_phone_version = version[0]\n",
    "    if res.in_phone_version: turn_3a(res)\n",
    "\n",
    "def turn_3a(res: SimpleNamespace):\n",
    "    # TODO: to be filled\n",
    "    old = 5\n",
    "    s = 'S: iphone {} is about {} years old'.format(res.in_phone_version, old)\n",
    "    print(s)"
   ]
  },
  {
   "cell_type": "code",
   "execution_count": 51,
   "metadata": {
    "pycharm": {}
   },
   "outputs": [
    {
     "name": "stdout",
     "output_type": "stream",
     "text": [
      "S: are you using a smartphone?\n",
      "U: yes i have an iphone\n",
      "S: how long have you been using iphone?\n",
      "U: about 2 years\n",
      "S: oh, are you using iphone 10s or 10s max?\n",
      "U: no, i'm using iphone 6s plus\n",
      "S: iphone 6s plus is about 5 years old\n",
      "S: good bye!\n"
     ]
    }
   ],
   "source": [
    "turn_0(res)"
   ]
  },
  {
   "cell_type": "markdown",
   "metadata": {
    "pycharm": {}
   },
   "source": [
    "## References\n",
    "\n",
    "* https://www.regular-expressions.info/tutorial.html\n",
    "* https://regex101.com"
   ]
  }
 ],
 "metadata": {
  "kernelspec": {
   "display_name": "Python 3",
   "language": "python",
   "name": "python3"
  },
  "language_info": {
   "codemirror_mode": {
    "name": "ipython",
    "version": 3
   },
   "file_extension": ".py",
   "mimetype": "text/x-python",
   "name": "python",
   "nbconvert_exporter": "python",
   "pygments_lexer": "ipython3",
   "version": "3.7.4"
  }
 },
 "nbformat": 4,
 "nbformat_minor": 4
}
