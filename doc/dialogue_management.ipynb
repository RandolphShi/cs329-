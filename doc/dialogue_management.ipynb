{
 "cells": [
  {
   "cell_type": "markdown",
   "metadata": {
    "pycharm": {}
   },
   "source": [
    "# Dialogue Management"
   ]
  },
  {
   "cell_type": "markdown",
   "metadata": {
    "pycharm": {
     "metadata": false
    }
   },
   "source": [
    "## Two major components "
   ]
  },
  {
   "cell_type": "markdown",
   "metadata": {
    "pycharm": {}
   },
   "source": [
    "1. Understand what the user is saying"
   ]
  },
  {
   "cell_type": "markdown",
   "metadata": {
    "pycharm": {}
   },
   "source": [
    "2. Decide what to say in response"
   ]
  },
  {
   "cell_type": "markdown",
   "metadata": {
    "pycharm": {}
   },
   "source": [
    "## Language Understanding "
   ]
  },
  {
   "cell_type": "markdown",
   "metadata": {
    "pycharm": {}
   },
   "source": [
    "So far, we have been working with regular expressions."
   ]
  },
  {
   "cell_type": "markdown",
   "metadata": {
    "pycharm": {}
   },
   "source": [
    "Regular expressions are one technique we can use to program language understanding into a dialogue agent. "
   ]
  },
  {
   "cell_type": "markdown",
   "metadata": {
    "pycharm": {}
   },
   "source": [
    "We define what the agent understands by creating regular expressions."
   ]
  },
  {
   "cell_type": "markdown",
   "metadata": {
    "pycharm": {}
   },
   "source": [
    "The agent will understand what a user says if it matches the regular expression that is programmed."
   ]
  },
  {
   "cell_type": "markdown",
   "metadata": {
    "pycharm": {}
   },
   "source": [
    "If we take the phone type example from earlier:"
   ]
  },
  {
   "cell_type": "code",
   "execution_count": 2,
   "metadata": {
    "pycharm": {}
   },
   "outputs": [
    {
     "name": "stdout",
     "output_type": "stream",
     "text": [
      "[None, 'iphone']\n",
      "['google', 'pixel']\n",
      "[None, 'galaxy']\n"
     ]
    }
   ],
   "source": [
    "import re\n",
    "from typing import List\n",
    "from re import Pattern\n",
    "\n",
    "def regex_matcher(regex: Pattern, instr: str) -> List[str]:\n",
    "    ts = [None] * regex.groups\n",
    "    \n",
    "    for t in regex.findall(instr):\n",
    "        if isinstance(t, str): t = [t]\n",
    "        for i, literal in enumerate(t):\n",
    "            if ts[i] is None and literal:\n",
    "                ts[i] = literal\n",
    "    \n",
    "    return ts\n",
    "\n",
    "re_phone = re.compile(r'(?:\\s|^)(apple|google|samsung)|(iphone|pixel|galaxy|android)(?:\\s|,|\\.|$)')\n",
    "\n",
    "print(regex_matcher(re_phone, 'yes I have an iphone'))\n",
    "print(regex_matcher(re_phone, 'yes I have google pixel'))\n",
    "print(regex_matcher(re_phone, 'yes I have a galaxy phone'))"
   ]
  },
  {
   "cell_type": "markdown",
   "metadata": {
    "pycharm": {}
   },
   "source": [
    "We have programmed an agent that can understand when the user is sharing the type of phone that they have by recognizing the different companies and phone models."
   ]
  },
  {
   "cell_type": "markdown",
   "metadata": {
    "pycharm": {}
   },
   "source": [
    "Using the regular expression grouping capability, we can also specify what pieces of information we want the dialogue agent to extract if the user shares them."
   ]
  },
  {
   "cell_type": "markdown",
   "metadata": {
    "pycharm": {}
   },
   "source": [
    "For the phone type example, we are programming the dialogue agent to pick out the company name and the phone model name in such a way that this information can be stored and accessed later. "
   ]
  },
  {
   "cell_type": "markdown",
   "metadata": {
    "pycharm": {}
   },
   "source": [
    "It is important for dialogue agents to have this memory ability in order to make coherent responses to what the user says."
   ]
  },
  {
   "cell_type": "markdown",
   "metadata": {
    "pycharm": {}
   },
   "source": [
    "## Response Generation"
   ]
  },
  {
   "cell_type": "markdown",
   "metadata": {
    "pycharm": {}
   },
   "source": [
    "Each utterance that a user says affects the dialogue situation that the agent is currently in. "
   ]
  },
  {
   "cell_type": "markdown",
   "metadata": {
    "pycharm": {}
   },
   "source": [
    "Depending on what the user says, we want the agent to be able to make different responses that make sense for the particular state of the dialogue."
   ]
  },
  {
   "cell_type": "markdown",
   "metadata": {
    "pycharm": {}
   },
   "source": [
    "If we take the starting turn of the phone conversation as an example:"
   ]
  },
  {
   "cell_type": "code",
   "execution_count": 4,
   "metadata": {
    "pycharm": {}
   },
   "outputs": [],
   "source": [
    "from typing import Any\n",
    "from types import SimpleNamespace\n",
    "\n",
    "def turn_0(res: SimpleNamespace):\n",
    "    s = 'S: are you using a smartphone?'\n",
    "    u = input(s + '\\nU: ')\n",
    "\n",
    "    yn = regex_matcher(res.re_yn, u)\n",
    "    phone = regex_matcher(res.re_phone, u)\n",
    "    res.in_phone_company = phone[0]\n",
    "    res.in_phone_name = phone[1]\n",
    "\n",
    "    if any(phone):\n",
    "        turn_1a(res)\n",
    "    elif yn[0]:\n",
    "        turn_1b(res)\n",
    "    elif yn[1]:\n",
    "        turn_1c(res)\n",
    "\n",
    "    print('S: good bye!')"
   ]
  },
  {
   "cell_type": "markdown",
   "metadata": {
    "pycharm": {}
   },
   "source": [
    "There are three different dialogue states that we can be in, depending on what the user says in response to our question."
   ]
  },
  {
   "cell_type": "markdown",
   "metadata": {
    "pycharm": {}
   },
   "source": [
    "1. The user has shared the particular type of phone that they have"
   ]
  },
  {
   "cell_type": "markdown",
   "metadata": {
    "pycharm": {}
   },
   "source": [
    "2. The user has said yes to using a smartphone, but not specified a type"
   ]
  },
  {
   "cell_type": "markdown",
   "metadata": {
    "pycharm": {}
   },
   "source": [
    "3. The user has said no to using a smartphone"
   ]
  },
  {
   "cell_type": "markdown",
   "metadata": {
    "pycharm": {}
   },
   "source": [
    "In each of these cases, the agent should take a different course of action when responding to the user."
   ]
  },
  {
   "cell_type": "markdown",
   "metadata": {
    "pycharm": {}
   },
   "source": [
    "Since the amount of information that the agent knows about the user is different, its interactions should be tailored to these different situations in order to hold a fluent and natural conversation."
   ]
  },
  {
   "cell_type": "markdown",
   "metadata": {
    "pycharm": {}
   },
   "source": [
    "So far, we have been using conditional statements to make these dialogue decisions."
   ]
  },
  {
   "cell_type": "markdown",
   "metadata": {
    "pycharm": {}
   },
   "source": [
    "## Dialogue State Machine"
   ]
  },
  {
   "cell_type": "markdown",
   "metadata": {
    "pycharm": {}
   },
   "source": [
    "There is name for this approach to dialogue: State Machine. "
   ]
  },
  {
   "cell_type": "markdown",
   "metadata": {
    "pycharm": {}
   },
   "source": [
    "State Machines are used to model many different processes, including dialogue. "
   ]
  },
  {
   "cell_type": "markdown",
   "metadata": {
    "pycharm": {}
   },
   "source": [
    "Anything that can be thought of as consisting of a sequence of actions resulting in different situations can be modelled as a State Machine."
   ]
  },
  {
   "cell_type": "markdown",
   "metadata": {
    "pycharm": {}
   },
   "source": [
    "There are two major components of a State Machine:"
   ]
  },
  {
   "cell_type": "markdown",
   "metadata": {
    "pycharm": {}
   },
   "source": [
    "### 1. States"
   ]
  },
  {
   "cell_type": "markdown",
   "metadata": {
    "pycharm": {}
   },
   "source": [
    "* Describe a specific point/situation in the process being defined "
   ]
  },
  {
   "cell_type": "markdown",
   "metadata": {
    "pycharm": {}
   },
   "source": [
    "### 2. Transitions"
   ]
  },
  {
   "cell_type": "markdown",
   "metadata": {
    "pycharm": {}
   },
   "source": [
    "* Actions to move from one state to another"
   ]
  },
  {
   "cell_type": "markdown",
   "metadata": {
    "pycharm": {}
   },
   "source": [
    "For dialogue, "
   ]
  },
  {
   "cell_type": "markdown",
   "metadata": {
    "pycharm": {}
   },
   "source": [
    "* transitions are the language being exchanged back and forth from either the agent or the user"
   ]
  },
  {
   "cell_type": "markdown",
   "metadata": {
    "pycharm": {}
   },
   "source": [
    "* states are the different situations that result from specific sequences of language."
   ]
  },
  {
   "cell_type": "markdown",
   "metadata": {
    "pycharm": {}
   },
   "source": [
    "Below is a State Machine of the phone conversation we have been working with. "
   ]
  },
  {
   "cell_type": "markdown",
   "metadata": {
    "pycharm": {}
   },
   "source": [
    "* S marks states where the system is giving a response."
   ]
  },
  {
   "cell_type": "markdown",
   "metadata": {
    "pycharm": {}
   },
   "source": [
    "* U marks states where the user is giving a response. "
   ]
  },
  {
   "cell_type": "markdown",
   "metadata": {
    "pycharm": {}
   },
   "source": [
    "* The arrows show the response (or an approximation of it) that takes you from one state to another."
   ]
  },
  {
   "cell_type": "markdown",
   "metadata": {
    "pycharm": {}
   },
   "source": [
    "<img src=\"res/whole_conv.jpg\" />"
   ]
  },
  {
   "cell_type": "markdown",
   "metadata": {
    "pycharm": {}
   },
   "source": [
    "We will be using a python package that provides a straightforward interface for making state machines for dialogue."
   ]
  },
  {
   "cell_type": "markdown",
   "metadata": {
    "pycharm": {}
   },
   "source": [
    "Documentation and installation instructions can be found here: https://pypi.org/project/emora-stdm/"
   ]
  },
  {
   "cell_type": "markdown",
   "metadata": {
    "pycharm": {}
   },
   "source": [
    "In this package, a state machine for dialogue is called a DialogueFlow."
   ]
  },
  {
   "cell_type": "markdown",
   "metadata": {
    "pycharm": {}
   },
   "source": [
    "Here is a simple example:"
   ]
  },
  {
   "cell_type": "code",
   "execution_count": 48,
   "metadata": {
    "pycharm": {}
   },
   "outputs": [
    {
     "name": "stdout",
     "output_type": "stream",
     "text": [
      "S: do you have a son\n",
      "U: yes\n",
      "S: thats great i wish i had a son\n",
      "U: ok\n",
      "S: do you have a brother\n"
     ]
    },
    {
     "ename": "KeyboardInterrupt",
     "evalue": "",
     "output_type": "error",
     "traceback": [
      "\u001b[0;31m---------------------------------------------------------------------------\u001b[0m",
      "\u001b[0;31mKeyboardInterrupt\u001b[0m                         Traceback (most recent call last)",
      "\u001b[0;32m/anaconda2/envs/emora_cobot_env/lib/python3.7/site-packages/ipykernel/kernelbase.py\u001b[0m in \u001b[0;36m_input_request\u001b[0;34m(self, prompt, ident, parent, password)\u001b[0m\n\u001b[1;32m    883\u001b[0m             \u001b[0;32mtry\u001b[0m\u001b[0;34m:\u001b[0m\u001b[0;34m\u001b[0m\u001b[0;34m\u001b[0m\u001b[0m\n\u001b[0;32m--> 884\u001b[0;31m                 \u001b[0mident\u001b[0m\u001b[0;34m,\u001b[0m \u001b[0mreply\u001b[0m \u001b[0;34m=\u001b[0m \u001b[0mself\u001b[0m\u001b[0;34m.\u001b[0m\u001b[0msession\u001b[0m\u001b[0;34m.\u001b[0m\u001b[0mrecv\u001b[0m\u001b[0;34m(\u001b[0m\u001b[0mself\u001b[0m\u001b[0;34m.\u001b[0m\u001b[0mstdin_socket\u001b[0m\u001b[0;34m,\u001b[0m \u001b[0;36m0\u001b[0m\u001b[0;34m)\u001b[0m\u001b[0;34m\u001b[0m\u001b[0;34m\u001b[0m\u001b[0m\n\u001b[0m\u001b[1;32m    885\u001b[0m             \u001b[0;32mexcept\u001b[0m \u001b[0mException\u001b[0m\u001b[0;34m:\u001b[0m\u001b[0;34m\u001b[0m\u001b[0;34m\u001b[0m\u001b[0m\n",
      "\u001b[0;32m/anaconda2/envs/emora_cobot_env/lib/python3.7/site-packages/jupyter_client/session.py\u001b[0m in \u001b[0;36mrecv\u001b[0;34m(self, socket, mode, content, copy)\u001b[0m\n\u001b[1;32m    802\u001b[0m         \u001b[0;32mtry\u001b[0m\u001b[0;34m:\u001b[0m\u001b[0;34m\u001b[0m\u001b[0;34m\u001b[0m\u001b[0m\n\u001b[0;32m--> 803\u001b[0;31m             \u001b[0mmsg_list\u001b[0m \u001b[0;34m=\u001b[0m \u001b[0msocket\u001b[0m\u001b[0;34m.\u001b[0m\u001b[0mrecv_multipart\u001b[0m\u001b[0;34m(\u001b[0m\u001b[0mmode\u001b[0m\u001b[0;34m,\u001b[0m \u001b[0mcopy\u001b[0m\u001b[0;34m=\u001b[0m\u001b[0mcopy\u001b[0m\u001b[0;34m)\u001b[0m\u001b[0;34m\u001b[0m\u001b[0;34m\u001b[0m\u001b[0m\n\u001b[0m\u001b[1;32m    804\u001b[0m         \u001b[0;32mexcept\u001b[0m \u001b[0mzmq\u001b[0m\u001b[0;34m.\u001b[0m\u001b[0mZMQError\u001b[0m \u001b[0;32mas\u001b[0m \u001b[0me\u001b[0m\u001b[0;34m:\u001b[0m\u001b[0;34m\u001b[0m\u001b[0;34m\u001b[0m\u001b[0m\n",
      "\u001b[0;32m/anaconda2/envs/emora_cobot_env/lib/python3.7/site-packages/zmq/sugar/socket.py\u001b[0m in \u001b[0;36mrecv_multipart\u001b[0;34m(self, flags, copy, track)\u001b[0m\n\u001b[1;32m    474\u001b[0m         \"\"\"\n\u001b[0;32m--> 475\u001b[0;31m         \u001b[0mparts\u001b[0m \u001b[0;34m=\u001b[0m \u001b[0;34m[\u001b[0m\u001b[0mself\u001b[0m\u001b[0;34m.\u001b[0m\u001b[0mrecv\u001b[0m\u001b[0;34m(\u001b[0m\u001b[0mflags\u001b[0m\u001b[0;34m,\u001b[0m \u001b[0mcopy\u001b[0m\u001b[0;34m=\u001b[0m\u001b[0mcopy\u001b[0m\u001b[0;34m,\u001b[0m \u001b[0mtrack\u001b[0m\u001b[0;34m=\u001b[0m\u001b[0mtrack\u001b[0m\u001b[0;34m)\u001b[0m\u001b[0;34m]\u001b[0m\u001b[0;34m\u001b[0m\u001b[0;34m\u001b[0m\u001b[0m\n\u001b[0m\u001b[1;32m    476\u001b[0m         \u001b[0;31m# have first part already, only loop while more to receive\u001b[0m\u001b[0;34m\u001b[0m\u001b[0;34m\u001b[0m\u001b[0;34m\u001b[0m\u001b[0m\n",
      "\u001b[0;32mzmq/backend/cython/socket.pyx\u001b[0m in \u001b[0;36mzmq.backend.cython.socket.Socket.recv\u001b[0;34m()\u001b[0m\n",
      "\u001b[0;32mzmq/backend/cython/socket.pyx\u001b[0m in \u001b[0;36mzmq.backend.cython.socket.Socket.recv\u001b[0;34m()\u001b[0m\n",
      "\u001b[0;32mzmq/backend/cython/socket.pyx\u001b[0m in \u001b[0;36mzmq.backend.cython.socket._recv_copy\u001b[0;34m()\u001b[0m\n",
      "\u001b[0;32m/anaconda2/envs/emora_cobot_env/lib/python3.7/site-packages/zmq/backend/cython/checkrc.pxd\u001b[0m in \u001b[0;36mzmq.backend.cython.checkrc._check_rc\u001b[0;34m()\u001b[0m\n",
      "\u001b[0;31mKeyboardInterrupt\u001b[0m: ",
      "\nDuring handling of the above exception, another exception occurred:\n",
      "\u001b[0;31mKeyboardInterrupt\u001b[0m                         Traceback (most recent call last)",
      "\u001b[0;32m<ipython-input-48-95e60b5e1781>\u001b[0m in \u001b[0;36m<module>\u001b[0;34m\u001b[0m\n\u001b[1;32m     26\u001b[0m \u001b[0mdf\u001b[0m\u001b[0;34m.\u001b[0m\u001b[0mset_error_successor\u001b[0m\u001b[0;34m(\u001b[0m\u001b[0mState\u001b[0m\u001b[0;34m.\u001b[0m\u001b[0mWHATEV\u001b[0m\u001b[0;34m,\u001b[0m \u001b[0mState\u001b[0m\u001b[0;34m.\u001b[0m\u001b[0mSTART\u001b[0m\u001b[0;34m)\u001b[0m\u001b[0;34m\u001b[0m\u001b[0;34m\u001b[0m\u001b[0m\n\u001b[1;32m     27\u001b[0m \u001b[0;34m\u001b[0m\u001b[0m\n\u001b[0;32m---> 28\u001b[0;31m \u001b[0mdf\u001b[0m\u001b[0;34m.\u001b[0m\u001b[0mrun\u001b[0m\u001b[0;34m(\u001b[0m\u001b[0mdebugging\u001b[0m\u001b[0;34m=\u001b[0m\u001b[0;32mFalse\u001b[0m\u001b[0;34m)\u001b[0m\u001b[0;34m\u001b[0m\u001b[0;34m\u001b[0m\u001b[0m\n\u001b[0m",
      "\u001b[0;32m/anaconda2/envs/emora_cobot_env/lib/python3.7/site-packages/emora_stdm/state_transition_dialogue_manager/dialogue_flow.py\u001b[0m in \u001b[0;36mrun\u001b[0;34m(self, debugging)\u001b[0m\n\u001b[1;32m     56\u001b[0m                 \u001b[0mprint\u001b[0m\u001b[0;34m(\u001b[0m\u001b[0;34m\"S:\"\u001b[0m\u001b[0;34m,\u001b[0m \u001b[0mself\u001b[0m\u001b[0;34m.\u001b[0m\u001b[0msystem_turn\u001b[0m\u001b[0;34m(\u001b[0m\u001b[0mdebugging\u001b[0m\u001b[0;34m=\u001b[0m\u001b[0mdebugging\u001b[0m\u001b[0;34m)\u001b[0m\u001b[0;34m)\u001b[0m\u001b[0;34m\u001b[0m\u001b[0;34m\u001b[0m\u001b[0m\n\u001b[1;32m     57\u001b[0m             \u001b[0;32melse\u001b[0m\u001b[0;34m:\u001b[0m\u001b[0;34m\u001b[0m\u001b[0;34m\u001b[0m\u001b[0m\n\u001b[0;32m---> 58\u001b[0;31m                 \u001b[0muser_input\u001b[0m \u001b[0;34m=\u001b[0m \u001b[0minput\u001b[0m\u001b[0;34m(\u001b[0m\u001b[0;34m\"U: \"\u001b[0m\u001b[0;34m)\u001b[0m\u001b[0;34m\u001b[0m\u001b[0;34m\u001b[0m\u001b[0m\n\u001b[0m\u001b[1;32m     59\u001b[0m                 \u001b[0mself\u001b[0m\u001b[0;34m.\u001b[0m\u001b[0muser_turn\u001b[0m\u001b[0;34m(\u001b[0m\u001b[0muser_input\u001b[0m\u001b[0;34m,\u001b[0m \u001b[0mdebugging\u001b[0m\u001b[0;34m=\u001b[0m\u001b[0mdebugging\u001b[0m\u001b[0;34m)\u001b[0m\u001b[0;34m\u001b[0m\u001b[0;34m\u001b[0m\u001b[0m\n\u001b[1;32m     60\u001b[0m \u001b[0;34m\u001b[0m\u001b[0m\n",
      "\u001b[0;32m/anaconda2/envs/emora_cobot_env/lib/python3.7/site-packages/ipykernel/kernelbase.py\u001b[0m in \u001b[0;36mraw_input\u001b[0;34m(self, prompt)\u001b[0m\n\u001b[1;32m    857\u001b[0m             \u001b[0mself\u001b[0m\u001b[0;34m.\u001b[0m\u001b[0m_parent_ident\u001b[0m\u001b[0;34m,\u001b[0m\u001b[0;34m\u001b[0m\u001b[0;34m\u001b[0m\u001b[0m\n\u001b[1;32m    858\u001b[0m             \u001b[0mself\u001b[0m\u001b[0;34m.\u001b[0m\u001b[0m_parent_header\u001b[0m\u001b[0;34m,\u001b[0m\u001b[0;34m\u001b[0m\u001b[0;34m\u001b[0m\u001b[0m\n\u001b[0;32m--> 859\u001b[0;31m             \u001b[0mpassword\u001b[0m\u001b[0;34m=\u001b[0m\u001b[0;32mFalse\u001b[0m\u001b[0;34m,\u001b[0m\u001b[0;34m\u001b[0m\u001b[0;34m\u001b[0m\u001b[0m\n\u001b[0m\u001b[1;32m    860\u001b[0m         )\n\u001b[1;32m    861\u001b[0m \u001b[0;34m\u001b[0m\u001b[0m\n",
      "\u001b[0;32m/anaconda2/envs/emora_cobot_env/lib/python3.7/site-packages/ipykernel/kernelbase.py\u001b[0m in \u001b[0;36m_input_request\u001b[0;34m(self, prompt, ident, parent, password)\u001b[0m\n\u001b[1;32m    887\u001b[0m             \u001b[0;32mexcept\u001b[0m \u001b[0mKeyboardInterrupt\u001b[0m\u001b[0;34m:\u001b[0m\u001b[0;34m\u001b[0m\u001b[0;34m\u001b[0m\u001b[0m\n\u001b[1;32m    888\u001b[0m                 \u001b[0;31m# re-raise KeyboardInterrupt, to truncate traceback\u001b[0m\u001b[0;34m\u001b[0m\u001b[0;34m\u001b[0m\u001b[0;34m\u001b[0m\u001b[0m\n\u001b[0;32m--> 889\u001b[0;31m                 \u001b[0;32mraise\u001b[0m \u001b[0mKeyboardInterrupt\u001b[0m\u001b[0;34m\u001b[0m\u001b[0;34m\u001b[0m\u001b[0m\n\u001b[0m\u001b[1;32m    890\u001b[0m             \u001b[0;32melse\u001b[0m\u001b[0;34m:\u001b[0m\u001b[0;34m\u001b[0m\u001b[0;34m\u001b[0m\u001b[0m\n\u001b[1;32m    891\u001b[0m                 \u001b[0;32mbreak\u001b[0m\u001b[0;34m\u001b[0m\u001b[0;34m\u001b[0m\u001b[0m\n",
      "\u001b[0;31mKeyboardInterrupt\u001b[0m: "
     ]
    }
   ],
   "source": [
    "from emora_stdm import DialogueFlow\n",
    "from enum import Enum\n",
    "\n",
    "# states are typically represented as an enum\n",
    "class State(Enum):\n",
    "    START = 0\n",
    "    FAM_ANS = 1\n",
    "    FAM_Y = 2\n",
    "    FAM_N = 3\n",
    "    FAM_ERR = 4\n",
    "    WHATEV = 5\n",
    "\n",
    "# initialize the DialogueFlow object, which uses a state-machine to manage dialogue\n",
    "df = DialogueFlow(State.START)\n",
    "\n",
    "# add transitions to create an arbitrary graph for the state machine\n",
    "df.add_system_transition(State.START, State.FAM_ANS, '[!do you have a $F={brother, sister, son, daughter, cousin}]')\n",
    "df.add_user_transition(State.FAM_ANS, State.FAM_Y, '[{yes, yea, yup, yep, i do, yeah}]')\n",
    "\n",
    "df.add_user_transition(State.FAM_ANS, State.FAM_N, '[{no, nope}]')\n",
    "df.add_system_transition(State.FAM_Y, State.WHATEV, 'thats great i wish i had a $F')\n",
    "\n",
    "df.add_system_transition(State.FAM_N, State.WHATEV, 'ok then')\n",
    "df.add_system_transition(State.FAM_ERR, State.WHATEV, 'im not sure i understand')\n",
    "\n",
    "# each state that will be reached on the user turn should define an error transition if no other transition matches\n",
    "df.set_error_successor(State.FAM_ANS, State.FAM_ERR)\n",
    "df.set_error_successor(State.WHATEV, State.START)\n",
    "\n",
    "df.run(debugging=False)"
   ]
  },
  {
   "cell_type": "markdown",
   "metadata": {
    "pycharm": {}
   },
   "source": [
    "Since we have been focusing on regular expressions up until this point, the first thing we will discuss is how to specify the language expression for each transition between states in the package `emora-stdm`."
   ]
  },
  {
   "cell_type": "markdown",
   "metadata": {
    "pycharm": {}
   },
   "source": [
    "It uses a modified version of regular expressions - called `NatEx` - which simplifies much of the syntax, but ultimately the expression that you write is translated into a regular expression."
   ]
  },
  {
   "cell_type": "markdown",
   "metadata": {
    "pycharm": {}
   },
   "source": [
    "## NatEx"
   ]
  },
  {
   "cell_type": "markdown",
   "metadata": {
    "pycharm": {}
   },
   "source": [
    "### Literal\n",
    "```\n",
    "'well hello'\n",
    "```\n",
    "directly match a literal substring"
   ]
  },
  {
   "cell_type": "code",
   "execution_count": 61,
   "metadata": {
    "pycharm": {}
   },
   "outputs": [],
   "source": [
    "from emora_stdm import NatexNLU\n",
    "\n",
    "natex_nlu = NatexNLU('well hello')"
   ]
  },
  {
   "cell_type": "code",
   "execution_count": 51,
   "metadata": {
    "pycharm": {}
   },
   "outputs": [
    {
     "name": "stdout",
     "output_type": "stream",
     "text": [
      "<regex.Match object; span=(0, 10), match='well hello'>\n"
     ]
    }
   ],
   "source": [
    "print(natex_nlu.match('well hello', debugging=False))"
   ]
  },
  {
   "cell_type": "code",
   "execution_count": 52,
   "metadata": {
    "pycharm": {}
   },
   "outputs": [
    {
     "name": "stdout",
     "output_type": "stream",
     "text": [
      "None\n"
     ]
    }
   ],
   "source": [
    "print(natex_nlu.match('well hi', debugging=False))"
   ]
  },
  {
   "cell_type": "code",
   "execution_count": 62,
   "metadata": {
    "pycharm": {}
   },
   "outputs": [
    {
     "name": "stdout",
     "output_type": "stream",
     "text": [
      "None\n"
     ]
    }
   ],
   "source": [
    "print(natex_nlu.match('well hello there', debugging=False))"
   ]
  },
  {
   "cell_type": "markdown",
   "metadata": {
    "pycharm": {}
   },
   "source": [
    "### Disjunction\n",
    "```\n",
    "'{hi, hello}'\n",
    "```\n",
    "matches a substring containing exactly one term inside `{}`. In this case,\n",
    "\"hi\" and \"hello\" both match."
   ]
  },
  {
   "cell_type": "code",
   "execution_count": 54,
   "metadata": {
    "pycharm": {}
   },
   "outputs": [],
   "source": [
    "natex_nlu = NatexNLU('{hi, hello}')"
   ]
  },
  {
   "cell_type": "code",
   "execution_count": 55,
   "metadata": {
    "pycharm": {}
   },
   "outputs": [
    {
     "name": "stdout",
     "output_type": "stream",
     "text": [
      "<regex.Match object; span=(0, 2), match='hi'>\n"
     ]
    }
   ],
   "source": [
    "print(natex_nlu.match('hi', debugging=False))"
   ]
  },
  {
   "cell_type": "code",
   "execution_count": 56,
   "metadata": {
    "pycharm": {}
   },
   "outputs": [
    {
     "name": "stdout",
     "output_type": "stream",
     "text": [
      "<regex.Match object; span=(0, 5), match='hello'>\n"
     ]
    }
   ],
   "source": [
    "print(natex_nlu.match('hello', debugging=False))"
   ]
  },
  {
   "cell_type": "code",
   "execution_count": 203,
   "metadata": {
    "pycharm": {}
   },
   "outputs": [
    {
     "name": "stdout",
     "output_type": "stream",
     "text": [
      "None\n"
     ]
    }
   ],
   "source": [
    "print(natex_nlu.match('hi hello', debugging=False))"
   ]
  },
  {
   "cell_type": "code",
   "execution_count": 204,
   "metadata": {
    "pycharm": {}
   },
   "outputs": [
    {
     "name": "stdout",
     "output_type": "stream",
     "text": [
      "None\n"
     ]
    }
   ],
   "source": [
    "print(natex_nlu.match('hey', debugging=False))"
   ]
  },
  {
   "cell_type": "code",
   "execution_count": 205,
   "metadata": {
    "pycharm": {}
   },
   "outputs": [
    {
     "name": "stdout",
     "output_type": "stream",
     "text": [
      "None\n"
     ]
    }
   ],
   "source": [
    "print(natex_nlu.match('hi everyone', debugging=False))"
   ]
  },
  {
   "cell_type": "markdown",
   "metadata": {
    "pycharm": {}
   },
   "source": [
    "### Conjunction\n",
    "```\n",
    "'<everyone, hi>'\n",
    "```\n",
    "matches a substring that contains at least all terms inside `<>`. In this case, \"hi everyone\" and \"oh well hi there everyone\" both would match, but not\n",
    "\"hi\"."
   ]
  },
  {
   "cell_type": "code",
   "execution_count": 57,
   "metadata": {
    "pycharm": {}
   },
   "outputs": [],
   "source": [
    "natex_nlu = NatexNLU('<everyone, hi>')"
   ]
  },
  {
   "cell_type": "code",
   "execution_count": 58,
   "metadata": {
    "pycharm": {}
   },
   "outputs": [
    {
     "name": "stdout",
     "output_type": "stream",
     "text": [
      "<regex.Match object; span=(0, 11), match='hi everyone'>\n"
     ]
    }
   ],
   "source": [
    "print(natex_nlu.match('hi everyone', debugging=False))"
   ]
  },
  {
   "cell_type": "code",
   "execution_count": 208,
   "metadata": {
    "pycharm": {}
   },
   "outputs": [
    {
     "name": "stdout",
     "output_type": "stream",
     "text": [
      "<regex.Match object; span=(0, 25), match='oh well hi there everyone'>\n"
     ]
    }
   ],
   "source": [
    "print(natex_nlu.match('oh well hi there everyone', debugging=False))"
   ]
  },
  {
   "cell_type": "code",
   "execution_count": 209,
   "metadata": {
    "pycharm": {}
   },
   "outputs": [
    {
     "name": "stdout",
     "output_type": "stream",
     "text": [
      "None\n"
     ]
    }
   ],
   "source": [
    "print(natex_nlu.match('hi', debugging=False))"
   ]
  },
  {
   "cell_type": "code",
   "execution_count": 210,
   "metadata": {
    "pycharm": {}
   },
   "outputs": [
    {
     "name": "stdout",
     "output_type": "stream",
     "text": [
      "None\n"
     ]
    }
   ],
   "source": [
    "print(natex_nlu.match('everyone', debugging=False))"
   ]
  },
  {
   "cell_type": "markdown",
   "metadata": {
    "pycharm": {}
   },
   "source": [
    "### Flexible sequence\n",
    "```\n",
    "'[well hello]'\n",
    "```\n",
    "matches as long as the utterance contains all terms inside `[]`,\n",
    "and the terms are ordered properly within the utterance. Note that this expression matches any amount of characters\n",
    "before and after the requisite sequence."
   ]
  },
  {
   "cell_type": "code",
   "execution_count": 211,
   "metadata": {
    "pycharm": {}
   },
   "outputs": [],
   "source": [
    "natex_nlu = NatexNLU('[well hello]')"
   ]
  },
  {
   "cell_type": "code",
   "execution_count": 212,
   "metadata": {
    "pycharm": {}
   },
   "outputs": [
    {
     "name": "stdout",
     "output_type": "stream",
     "text": [
      "<regex.Match object; span=(0, 10), match='well hello'>\n"
     ]
    }
   ],
   "source": [
    "print(natex_nlu.match('well hello', debugging=False))"
   ]
  },
  {
   "cell_type": "code",
   "execution_count": 213,
   "metadata": {
    "pycharm": {}
   },
   "outputs": [
    {
     "name": "stdout",
     "output_type": "stream",
     "text": [
      "<regex.Match object; span=(0, 16), match='well hello there'>\n"
     ]
    }
   ],
   "source": [
    "print(natex_nlu.match('well hello there', debugging=False))"
   ]
  },
  {
   "cell_type": "code",
   "execution_count": 214,
   "metadata": {
    "pycharm": {}
   },
   "outputs": [
    {
     "name": "stdout",
     "output_type": "stream",
     "text": [
      "<regex.Match object; span=(0, 33), match='and then he said well hello there'>\n"
     ]
    }
   ],
   "source": [
    "print(natex_nlu.match('and then he said well hello there', debugging=False))"
   ]
  },
  {
   "cell_type": "code",
   "execution_count": 215,
   "metadata": {
    "pycharm": {}
   },
   "outputs": [
    {
     "name": "stdout",
     "output_type": "stream",
     "text": [
      "None\n"
     ]
    }
   ],
   "source": [
    "print(natex_nlu.match('well hi there', debugging=False))"
   ]
  },
  {
   "cell_type": "markdown",
   "metadata": {
    "pycharm": {}
   },
   "source": [
    "#### Slightly more complicated example:"
   ]
  },
  {
   "cell_type": "markdown",
   "metadata": {
    "pycharm": {}
   },
   "source": [
    "It is important to point out that commas `,` are used to separate terms in our expressions. If there are multiple words separated by spaces contained within a single comma, then that entire string (including the spaces) will need to match. "
   ]
  },
  {
   "cell_type": "code",
   "execution_count": 216,
   "metadata": {
    "pycharm": {}
   },
   "outputs": [],
   "source": [
    "natex_nlu = NatexNLU('[he said, bob]')"
   ]
  },
  {
   "cell_type": "code",
   "execution_count": 217,
   "metadata": {
    "pycharm": {}
   },
   "outputs": [
    {
     "name": "stdout",
     "output_type": "stream",
     "text": [
      "<regex.Match object; span=(0, 11), match='he said bob'>\n"
     ]
    }
   ],
   "source": [
    "print(natex_nlu.match('he said bob', debugging=False))"
   ]
  },
  {
   "cell_type": "code",
   "execution_count": 218,
   "metadata": {
    "pycharm": {}
   },
   "outputs": [
    {
     "name": "stdout",
     "output_type": "stream",
     "text": [
      "<regex.Match object; span=(0, 33), match='and the next that he said was bob'>\n"
     ]
    }
   ],
   "source": [
    "print(natex_nlu.match('and the next thing that he said was bob', debugging=False))"
   ]
  },
  {
   "cell_type": "code",
   "execution_count": 219,
   "metadata": {
    "pycharm": {}
   },
   "outputs": [
    {
     "name": "stdout",
     "output_type": "stream",
     "text": [
      "None\n"
     ]
    }
   ],
   "source": [
    "print(natex_nlu.match('and bob was the next that he said', debugging=False))"
   ]
  },
  {
   "cell_type": "markdown",
   "metadata": {
    "pycharm": {}
   },
   "source": [
    "### Inflexible sequence\n",
    "```\n",
    "'[!he, said, bob]'\n",
    "```\n",
    "matches an exact sequence of terms with no words inserted between\n",
    "terms. The only utterance matching the example is \"he said bob\"."
   ]
  },
  {
   "cell_type": "code",
   "execution_count": 220,
   "metadata": {
    "pycharm": {}
   },
   "outputs": [],
   "source": [
    "natex_nlu = NatexNLU('[!he, said, bob]')"
   ]
  },
  {
   "cell_type": "code",
   "execution_count": 221,
   "metadata": {
    "pycharm": {}
   },
   "outputs": [
    {
     "name": "stdout",
     "output_type": "stream",
     "text": [
      "<regex.Match object; span=(0, 11), match='he said bob'>\n"
     ]
    }
   ],
   "source": [
    "print(natex_nlu.match('he said bob', debugging=False))"
   ]
  },
  {
   "cell_type": "code",
   "execution_count": 222,
   "metadata": {
    "pycharm": {}
   },
   "outputs": [
    {
     "name": "stdout",
     "output_type": "stream",
     "text": [
      "None\n"
     ]
    }
   ],
   "source": [
    "print(natex_nlu.match('and the next thing is he said bob', debugging=False))"
   ]
  },
  {
   "cell_type": "markdown",
   "metadata": {
    "pycharm": {}
   },
   "source": [
    "### Negation\n",
    "```\n",
    "[!i am -bad]\n",
    "```\n",
    "prepend `-` to negate the next term in the expression. The example\n",
    "will match any expression starting with \"i am\" where \"bad\" does NOT\n",
    "follow. Note that the scope of the negation extends to the end\n",
    "of the substring due to limitations in regex."
   ]
  },
  {
   "cell_type": "code",
   "execution_count": 223,
   "metadata": {
    "pycharm": {}
   },
   "outputs": [],
   "source": [
    "natex_nlu = NatexNLU('[!i, am, -bad, at, math]')"
   ]
  },
  {
   "cell_type": "code",
   "execution_count": 224,
   "metadata": {
    "pycharm": {}
   },
   "outputs": [
    {
     "name": "stdout",
     "output_type": "stream",
     "text": [
      "None\n"
     ]
    }
   ],
   "source": [
    "print(natex_nlu.match('i am bad at math', debugging=False))"
   ]
  },
  {
   "cell_type": "code",
   "execution_count": 225,
   "metadata": {
    "pycharm": {}
   },
   "outputs": [
    {
     "name": "stdout",
     "output_type": "stream",
     "text": [
      "<regex.Match object; span=(0, 17), match='i am good at math'>\n"
     ]
    }
   ],
   "source": [
    "print(natex_nlu.match('i am good at math', debugging=False))"
   ]
  },
  {
   "cell_type": "code",
   "execution_count": 226,
   "metadata": {
    "pycharm": {}
   },
   "outputs": [
    {
     "name": "stdout",
     "output_type": "stream",
     "text": [
      "<regex.Match object; span=(0, 21), match='i am good boy at math'>\n"
     ]
    }
   ],
   "source": [
    "print(natex_nlu.match('i am good boy at math', debugging=False))"
   ]
  },
  {
   "cell_type": "code",
   "execution_count": 227,
   "metadata": {
    "pycharm": {}
   },
   "outputs": [
    {
     "name": "stdout",
     "output_type": "stream",
     "text": [
      "None\n"
     ]
    }
   ],
   "source": [
    "print(natex_nlu.match('i am bad', debugging=False))"
   ]
  },
  {
   "cell_type": "markdown",
   "metadata": {
    "pycharm": {}
   },
   "source": [
    "### Regular expression\n",
    "```\n",
    "'/[A-Z a-z]+/'\n",
    "```\n",
    "substrings within `//` define a python regex directly."
   ]
  },
  {
   "cell_type": "markdown",
   "metadata": {
    "pycharm": {}
   },
   "source": [
    "If it is easier for some cases to use an actual regular expression, you can."
   ]
  },
  {
   "cell_type": "code",
   "execution_count": 78,
   "metadata": {
    "pycharm": {}
   },
   "outputs": [],
   "source": [
    "natex_nlu_natex = NatexNLU('{hi, hello}')"
   ]
  },
  {
   "cell_type": "code",
   "execution_count": 79,
   "metadata": {
    "pycharm": {}
   },
   "outputs": [
    {
     "name": "stdout",
     "output_type": "stream",
     "text": [
      "<regex.Match object; span=(0, 2), match='hi'>\n"
     ]
    }
   ],
   "source": [
    "print(natex_nlu_natex.match('hi', debugging=False))"
   ]
  },
  {
   "cell_type": "code",
   "execution_count": 80,
   "metadata": {
    "pycharm": {}
   },
   "outputs": [
    {
     "name": "stdout",
     "output_type": "stream",
     "text": [
      "<regex.Match object; span=(0, 5), match='hello'>\n"
     ]
    }
   ],
   "source": [
    "print(natex_nlu_natex.match('hello', debugging=False))"
   ]
  },
  {
   "cell_type": "code",
   "execution_count": 81,
   "metadata": {
    "pycharm": {}
   },
   "outputs": [
    {
     "name": "stdout",
     "output_type": "stream",
     "text": [
      "None\n"
     ]
    }
   ],
   "source": [
    "print(natex_nlu_natex.match('bye', debugging=False))"
   ]
  },
  {
   "cell_type": "code",
   "execution_count": 82,
   "metadata": {
    "pycharm": {}
   },
   "outputs": [],
   "source": [
    "natex_nlu_regex = NatexNLU('/hi|hello/')"
   ]
  },
  {
   "cell_type": "code",
   "execution_count": 83,
   "metadata": {
    "pycharm": {}
   },
   "outputs": [
    {
     "name": "stdout",
     "output_type": "stream",
     "text": [
      "<regex.Match object; span=(0, 2), match='hi'>\n"
     ]
    }
   ],
   "source": [
    "print(natex_nlu_regex.match('hi', debugging=False))"
   ]
  },
  {
   "cell_type": "code",
   "execution_count": 84,
   "metadata": {
    "pycharm": {}
   },
   "outputs": [
    {
     "name": "stdout",
     "output_type": "stream",
     "text": [
      "<regex.Match object; span=(0, 5), match='hello'>\n"
     ]
    }
   ],
   "source": [
    "print(natex_nlu_regex.match('hello', debugging=False))"
   ]
  },
  {
   "cell_type": "code",
   "execution_count": 85,
   "metadata": {
    "pycharm": {}
   },
   "outputs": [
    {
     "name": "stdout",
     "output_type": "stream",
     "text": [
      "None\n"
     ]
    }
   ],
   "source": [
    "print(natex_nlu_regex.match('bye', debugging=False))"
   ]
  },
  {
   "cell_type": "markdown",
   "metadata": {
    "pycharm": {}
   },
   "source": [
    "### Nesting\n",
    "```\n",
    "'[!{hi, hello} [how, weekend]]'\n",
    "```\n",
    "would match \"hi how was your weekend\", \"oh hello so how is the\n",
    "weekend going\", ..."
   ]
  },
  {
   "cell_type": "markdown",
   "metadata": {
    "pycharm": {}
   },
   "source": [
    "This example has:\n",
    "* Inflexible Sequence\n",
    "\n",
    "with nested\n",
    "\n",
    "* Disjunction\n",
    "* Flexible Sequence"
   ]
  },
  {
   "cell_type": "code",
   "execution_count": 63,
   "metadata": {
    "pycharm": {}
   },
   "outputs": [],
   "source": [
    "natex_nlu = NatexNLU('[!{hi, hello} [how, weekend]]')"
   ]
  },
  {
   "cell_type": "code",
   "execution_count": 64,
   "metadata": {
    "pycharm": {}
   },
   "outputs": [
    {
     "name": "stdout",
     "output_type": "stream",
     "text": [
      "None\n"
     ]
    }
   ],
   "source": [
    "print(natex_nlu.match('hello how was your weekend', debugging=False))"
   ]
  },
  {
   "cell_type": "markdown",
   "metadata": {
    "pycharm": {}
   },
   "source": [
    "Matches because:\n",
    "* Meets the requirements of the Inflexible Sequence\n",
    "* Meets the requirements of the Disjunction\n",
    "* Meets the requirements of the Flexible Sequence"
   ]
  },
  {
   "cell_type": "code",
   "execution_count": 230,
   "metadata": {
    "pycharm": {}
   },
   "outputs": [
    {
     "name": "stdout",
     "output_type": "stream",
     "text": [
      "None\n"
     ]
    }
   ],
   "source": [
    "print(natex_nlu.match('oh hi how was your weekend', debugging=False))"
   ]
  },
  {
   "cell_type": "markdown",
   "metadata": {
    "pycharm": {}
   },
   "source": [
    "Doesn't match because of Inflexible Sequence\n",
    "* there cannot be any leading words before the disjunction"
   ]
  },
  {
   "cell_type": "code",
   "execution_count": 66,
   "metadata": {
    "pycharm": {}
   },
   "outputs": [
    {
     "name": "stdout",
     "output_type": "stream",
     "text": [
      "<regex.Match object; span=(0, 20), match='hi there how weekend'>\n"
     ]
    }
   ],
   "source": [
    "print(natex_nlu.match('hi there how was your weekend', debugging=False))"
   ]
  },
  {
   "cell_type": "markdown",
   "metadata": {
    "pycharm": {}
   },
   "source": [
    "Matches because of inner Flexible Sequence\n",
    "* allows for extra words around it (even though it is nested inside of Inflexible Sequence)"
   ]
  },
  {
   "cell_type": "markdown",
   "metadata": {
    "pycharm": {}
   },
   "source": [
    "### Variable assignment\n",
    "```\n",
    "'[!i am $f={good, bad}]'\n",
    "```\n",
    "using `$var=` will assign variable `var` to the next term in\n",
    "the expression. The variable will persist until overwritten,\n",
    "and can be referenced in future NLU or NLG expressions.\n",
    "The example would match either \"i am good\" or \"i am bad\", and\n",
    "assigns variable \"f\" to either \"good\" or \"bad\" depending\n",
    "on what the user said."
   ]
  },
  {
   "cell_type": "code",
   "execution_count": 67,
   "metadata": {
    "pycharm": {}
   },
   "outputs": [],
   "source": [
    "vars_dict = {}\n",
    "natex_nlu = NatexNLU('[!i am $f={good, bad}]')"
   ]
  },
  {
   "cell_type": "code",
   "execution_count": 233,
   "metadata": {
    "pycharm": {}
   },
   "outputs": [
    {
     "name": "stdout",
     "output_type": "stream",
     "text": [
      "<regex.Match object; span=(0, 9), match='i am good'>\n"
     ]
    }
   ],
   "source": [
    "print(natex_nlu.match('i am good', debugging=False, vars=vars_dict))"
   ]
  },
  {
   "cell_type": "code",
   "execution_count": 234,
   "metadata": {
    "pycharm": {}
   },
   "outputs": [
    {
     "data": {
      "text/plain": [
       "{'f': 'good'}"
      ]
     },
     "execution_count": 234,
     "metadata": {},
     "output_type": "execute_result"
    }
   ],
   "source": [
    "vars_dict"
   ]
  },
  {
   "cell_type": "code",
   "execution_count": 235,
   "metadata": {
    "pycharm": {}
   },
   "outputs": [
    {
     "name": "stdout",
     "output_type": "stream",
     "text": [
      "<regex.Match object; span=(0, 8), match='i am bad'>\n"
     ]
    }
   ],
   "source": [
    "print(natex_nlu.match('i am bad', debugging=False, vars=vars_dict))"
   ]
  },
  {
   "cell_type": "code",
   "execution_count": 236,
   "metadata": {
    "pycharm": {}
   },
   "outputs": [
    {
     "data": {
      "text/plain": [
       "{'f': 'bad'}"
      ]
     },
     "execution_count": 236,
     "metadata": {},
     "output_type": "execute_result"
    }
   ],
   "source": [
    "vars_dict"
   ]
  },
  {
   "cell_type": "code",
   "execution_count": 237,
   "metadata": {
    "pycharm": {}
   },
   "outputs": [],
   "source": [
    "vars_dict = {}\n",
    "natex_nlu = NatexNLU('[!i am $f=[the, best]]')"
   ]
  },
  {
   "cell_type": "code",
   "execution_count": 238,
   "metadata": {
    "pycharm": {}
   },
   "outputs": [
    {
     "name": "stdout",
     "output_type": "stream",
     "text": [
      "<regex.Match object; span=(0, 25), match='i am the very best artist'>\n"
     ]
    }
   ],
   "source": [
    "print(natex_nlu.match('i am the very best artist', debugging=False, vars=vars_dict))"
   ]
  },
  {
   "cell_type": "code",
   "execution_count": 239,
   "metadata": {
    "pycharm": {}
   },
   "outputs": [
    {
     "data": {
      "text/plain": [
       "{'f': 'the very best artist'}"
      ]
     },
     "execution_count": 239,
     "metadata": {},
     "output_type": "execute_result"
    }
   ],
   "source": [
    "vars_dict"
   ]
  },
  {
   "cell_type": "markdown",
   "metadata": {
    "pycharm": {}
   },
   "source": [
    "### Variable reference\n",
    "```\n",
    "[!why are you $f today]\n",
    "```\n",
    "using `$` references a previously assigned variable. If no such\n",
    "variable exists, the expression as a whole returns with no match.\n",
    "The example would match \"why are you good today\" if `f=\"good\"`, \n",
    "but would not match if `f=\"bad\"`"
   ]
  },
  {
   "cell_type": "code",
   "execution_count": 240,
   "metadata": {
    "pycharm": {}
   },
   "outputs": [],
   "source": [
    "vars_dict = {\"f\": \"good\"}\n",
    "natex_nlu = NatexNLU('[!why are you $f today]')"
   ]
  },
  {
   "cell_type": "code",
   "execution_count": 241,
   "metadata": {
    "pycharm": {}
   },
   "outputs": [
    {
     "name": "stdout",
     "output_type": "stream",
     "text": [
      "<regex.Match object; span=(0, 22), match='why are you good today'>\n"
     ]
    }
   ],
   "source": [
    "print(natex_nlu.match('why are you good today', debugging=False, vars=vars_dict))"
   ]
  },
  {
   "cell_type": "code",
   "execution_count": 242,
   "metadata": {
    "pycharm": {}
   },
   "outputs": [
    {
     "name": "stdout",
     "output_type": "stream",
     "text": [
      "None\n"
     ]
    }
   ],
   "source": [
    "print(natex_nlu.match('why are you bad today', debugging=False, vars=vars_dict))"
   ]
  },
  {
   "cell_type": "code",
   "execution_count": 243,
   "metadata": {
    "pycharm": {}
   },
   "outputs": [
    {
     "name": "stdout",
     "output_type": "stream",
     "text": [
      "<regex.Match object; span=(0, 8), match='i am bad'>\n",
      "{'f': 'bad'}\n"
     ]
    }
   ],
   "source": [
    "vars_dict = {}\n",
    "natex_nlu_statement = NatexNLU('[!i am $f={good, bad}]')\n",
    "print(natex_nlu_statement.match('i am bad', debugging=False, vars=vars_dict))\n",
    "print(vars_dict)"
   ]
  },
  {
   "cell_type": "code",
   "execution_count": 244,
   "metadata": {
    "pycharm": {}
   },
   "outputs": [
    {
     "name": "stdout",
     "output_type": "stream",
     "text": [
      "None\n"
     ]
    }
   ],
   "source": [
    "print(natex_nlu.match('why are you good today', debugging=False, vars=vars_dict))"
   ]
  },
  {
   "cell_type": "code",
   "execution_count": 245,
   "metadata": {
    "pycharm": {}
   },
   "outputs": [
    {
     "name": "stdout",
     "output_type": "stream",
     "text": [
      "<regex.Match object; span=(0, 21), match='why are you bad today'>\n"
     ]
    }
   ],
   "source": [
    "print(natex_nlu.match('why are you bad today', debugging=False, vars=vars_dict))"
   ]
  },
  {
   "cell_type": "markdown",
   "metadata": {
    "pycharm": {}
   },
   "source": [
    "## Phone Conversation: Regex to NatEx"
   ]
  },
  {
   "cell_type": "markdown",
   "metadata": {
    "pycharm": {}
   },
   "source": [
    "Let's return to the phone conversation we have been working with."
   ]
  },
  {
   "cell_type": "markdown",
   "metadata": {
    "pycharm": {}
   },
   "source": [
    "### Response: Yes"
   ]
  },
  {
   "cell_type": "code",
   "execution_count": 11,
   "metadata": {
    "pycharm": {}
   },
   "outputs": [
    {
     "name": "stdout",
     "output_type": "stream",
     "text": [
      "<regex.Match object; span=(0, 20), match='yes i have an iphone'>\n",
      "\n"
     ]
    }
   ],
   "source": [
    "from emora_stdm import NatexNLU\n",
    "\n",
    "REGEX = \"(?:\\s|^)(yes|yeah)(?:\\s|,|\\.|$)\"\n",
    "\n",
    "yes = r\"[{yes,yeah}]\"\n",
    "yes_natex = NatexNLU(yes)\n",
    "print(yes_natex.match(\"yes i have an iphone\"))\n",
    "print()"
   ]
  },
  {
   "cell_type": "markdown",
   "metadata": {
    "pycharm": {}
   },
   "source": [
    "### Response: No"
   ]
  },
  {
   "cell_type": "code",
   "execution_count": 247,
   "metadata": {
    "pycharm": {}
   },
   "outputs": [
    {
     "name": "stdout",
     "output_type": "stream",
     "text": [
      "<regex.Match object; span=(0, 19), match='actually not really'>\n",
      "\n"
     ]
    }
   ],
   "source": [
    "REGEX = \"(?:\\s|^)(no|not really)(?:\\s|,|\\.|$)(?:.*)\"\n",
    "\n",
    "no = r\"[{no,not really}]\"\n",
    "no_natex = NatexNLU(no)\n",
    "print(no_natex.match(\"actually not really\"))\n",
    "print()"
   ]
  },
  {
   "cell_type": "markdown",
   "metadata": {
    "pycharm": {}
   },
   "source": [
    "### Response: Phone Model"
   ]
  },
  {
   "cell_type": "code",
   "execution_count": 18,
   "metadata": {
    "pycharm": {}
   },
   "outputs": [
    {
     "name": "stdout",
     "output_type": "stream",
     "text": [
      "<regex.Match object; span=(0, 23), match='the samsung android one'>\n",
      "{'company': 'samsung', 'model': 'android'}\n",
      "\n"
     ]
    }
   ],
   "source": [
    "REGEX = \"(?:\\s|^)(apple|google|samsung)|(iphone|pixel|galaxy|android)(?:\\s|,|\\.|$)\"\n",
    "\n",
    "pcm_vars = {}\n",
    "phone_company_model = r\"{[$company={apple,google,samsung},$model={iphone,pixel,galaxy,android}],[$company={apple,google,samsung}],[$model={iphone,pixel,galaxy,android}]}\"\n",
    "phone_company_model_natex = NatexNLU(phone_company_model)\n",
    "print(phone_company_model_natex.match(\"the samsung android one\", vars=pcm_vars))\n",
    "print(pcm_vars)\n",
    "print()"
   ]
  },
  {
   "cell_type": "markdown",
   "metadata": {
    "pycharm": {}
   },
   "source": [
    "### Response: Duration"
   ]
  },
  {
   "cell_type": "code",
   "execution_count": 249,
   "metadata": {
    "pycharm": {}
   },
   "outputs": [
    {
     "name": "stdout",
     "output_type": "stream",
     "text": [
      "<regex.Match object; span=(0, 8), match='6 months'>\n",
      "{'number': '6', 'time_type': 'months'}\n",
      "\n"
     ]
    }
   ],
   "source": [
    "REGEX = \"(?:\\s|^)(\\d+)(?:\\s|-)+(month|year)\"\n",
    "\n",
    "t_vars = {}\n",
    "timeframe = r\"[$number=/\\d+/,$time_type={month,months,year,years}]\"\n",
    "timeframe_natex = NatexNLU(timeframe)\n",
    "print(timeframe_natex.match(\"6 months\", vars=t_vars))\n",
    "print(t_vars)\n",
    "print()"
   ]
  },
  {
   "cell_type": "markdown",
   "metadata": {
    "pycharm": {}
   },
   "source": [
    "### Response: From Date"
   ]
  },
  {
   "cell_type": "code",
   "execution_count": 250,
   "metadata": {
    "pycharm": {}
   },
   "outputs": [
    {
     "name": "stdout",
     "output_type": "stream",
     "text": [
      "<regex.Match object; span=(0, 19), match='since february 2019'>\n",
      "{'month': 'february', 'year': '2019'}\n",
      "\n"
     ]
    }
   ],
   "source": [
    "REGEX = \"(?:\\s|^)(?:since|from)\\s(?:(january|february|march|april|may|june|july|august|september|october|november|december)\\s)?(\\d{2,4})\"\n",
    "\n",
    "d_vars = {}\n",
    "date = r\"[!{since,from},$month={january,february,march,april,may,june,july,august,september,october,november,december},$year=/\\d{2,4}/]\"\n",
    "date_natex = NatexNLU(date)\n",
    "print(date_natex.match(\"since february 2019\", vars=d_vars))\n",
    "print(d_vars)\n",
    "print()"
   ]
  },
  {
   "cell_type": "markdown",
   "metadata": {
    "pycharm": {}
   },
   "source": [
    "### Response: Version"
   ]
  },
  {
   "cell_type": "code",
   "execution_count": 121,
   "metadata": {
    "pycharm": {}
   },
   "outputs": [
    {
     "name": "stdout",
     "output_type": "stream",
     "text": [
      "<regex.Match object; span=(0, 15), match='iphone 10s plus'>\n",
      "{'iphone_model': 'iphone 10s plus'}\n",
      "\n"
     ]
    }
   ],
   "source": [
    "REGEX = \"(?:\\s|^)(?:iphone|version)\\s(\\d+s?(?: (?:plus|max))?)(?:\\s|,|\\.|$)\"\n",
    "\n",
    "im_vars = {}\n",
    "iphone_model = r\"[$iphone_model=[!{iphone,version},/\\d+/,/\\d+s/},{plus,max}?]]\"\n",
    "iphone_model_natex = NatexNLU(iphone_model)\n",
    "print(iphone_model_natex.match(\"iphone 10s plus\", vars=im_vars))\n",
    "print(im_vars)\n",
    "print()"
   ]
  },
  {
   "cell_type": "markdown",
   "metadata": {
    "pycharm": {}
   },
   "source": [
    "### Macro: Predict Phone Version"
   ]
  },
  {
   "cell_type": "code",
   "execution_count": 1,
   "metadata": {
    "pycharm": {}
   },
   "outputs": [],
   "source": [
    "from emora_stdm import Macro\n",
    "\n",
    "class VERSION(Macro):\n",
    "    \n",
    "    def run(self, ngrams, vars, args):\n",
    "        \n",
    "        d_iphone = {\n",
    "            2019: [(9, ['11', '11 pro', '11 pro max'])], \n",
    "            2018: [(9, ['10s', '10s max'])], \n",
    "            2017: [(11, ['10']), (9, ['8', '8 plus'])], \n",
    "            2016: [(9, ['7', '7 plus'])], \n",
    "            2015: [(9, ['6s', '6s plus'])], \n",
    "            2014: [(9, ['6', '6 plus'])]}\n",
    "        \n",
    "        d_month_to_number = {\n",
    "            month: i for i, month in enumerate(\n",
    "                ['january','february','march','april','may','june',\n",
    "                 'july','august','september','october','november','december'], start=1)}\n",
    "\n",
    "        year = None\n",
    "        curr_year, curr_month = 2020, 1\n",
    "        \n",
    "        if 'number' in vars and 'time_type' in vars:\n",
    "            d = int(vars['number'])\n",
    "            m = vars['time_type']\n",
    "            if m.startswith('year'):\n",
    "                year = curr_year - d\n",
    "                month = curr_month\n",
    "            elif m.startswith('month'):\n",
    "                year = curr_year - int(d / 12)\n",
    "                month = curr_month - (d % 12)\n",
    "                if month <= 0:\n",
    "                    month_diff = abs(month)\n",
    "                    month = 12 - month_diff\n",
    "                    year -= 1\n",
    "                    \n",
    "        elif 'year' in vars:    \n",
    "            year = int(vars['year'])\n",
    "            if year <= 20: year += 2000\n",
    "            if 'month' in vars:\n",
    "                month = d_month_to_number[vars['month']]\n",
    "            else:\n",
    "                month = 1\n",
    "\n",
    "        r = d_iphone.get(year, None)\n",
    "        if r:\n",
    "            v = next((s_models for s_month, s_models in r if s_month >= month), [])\n",
    "            return ' or '.join(v)\n"
   ]
  },
  {
   "cell_type": "markdown",
   "metadata": {
    "pycharm": {}
   },
   "source": [
    "## Phone Conversation State Machine"
   ]
  },
  {
   "cell_type": "markdown",
   "metadata": {
    "pycharm": {}
   },
   "source": [
    "<img src=\"res/small_conv.jpg\" />"
   ]
  },
  {
   "cell_type": "code",
   "execution_count": null,
   "metadata": {
    "pycharm": {}
   },
   "outputs": [
    {
     "name": "stdout",
     "output_type": "stream",
     "text": [
      "S: are you using a smartphone ?\n",
      "U: yes i have an iphone\n",
      "S: how long have you been using iphone ?\n"
     ]
    }
   ],
   "source": [
    "from emora_stdm import DialogueFlow\n",
    "from enum import Enum\n",
    "\n",
    "class State(Enum):\n",
    "    S0 = 0\n",
    "    U0 = 1\n",
    "    S1A = 2\n",
    "    U1A = 3\n",
    "    S2A = 4\n",
    "    S2B = 5\n",
    "    U2A = 6\n",
    "    U2B = 7\n",
    "    S3 = 8\n",
    "    END = 9\n",
    "    ERR = 10\n",
    "    \n",
    "\n",
    "df = DialogueFlow(State.S0, initial_speaker=DialogueFlow.Speaker.SYSTEM, macros={\"VERSION\":VERSION()})\n",
    "\n",
    "# FIRST TURN\n",
    "\n",
    "df.add_system_transition(State.S0, State.U0, r'[!are you using a smartphone\"?\"]')\n",
    "\n",
    "# SECOND TURN\n",
    "\n",
    "yesphone_natex = r\"[{yes,yeah}, {[$company={apple,google,samsung},$model={iphone,pixel,galaxy,android}],[$company={apple,google,samsung}],[$model={iphone,pixel,galaxy,android}]}]\"\n",
    "df.add_user_transition(State.U0, State.S1A, yesphone_natex)\n",
    "\n",
    "df.add_system_transition(State.S1A, State.U1A, r'[!how long have you been using $model\"?\"]')\n",
    "\n",
    "# THIRD TURN\n",
    "\n",
    "time_natex = r\"{[$number=/\\d+/,$time_type={month,months,year,years}], [!{since,from},$month={january,february,march,april,may,june,july,august,september,october,november,december},$year=/\\d{2,4}/]}\"\n",
    "df.add_user_transition(State.U1A, State.S2A, time_natex)\n",
    "\n",
    "df.add_system_transition(State.S2A, State.U2A, r'[!oh are you using $model #VERSION\"?\"]')\n",
    "\n",
    "df.set_error_successor(State.U1A, error_successor=State.S2B) # if we don't get any time information, take the error transition to S2B\n",
    "\n",
    "df.add_system_transition(State.S2B, State.U2B, r'[! what version of phone are you using\"?\"]')\n",
    "\n",
    "# FINAL TURN\n",
    "\n",
    "df.add_user_transition(State.U2A, State.END, \"/.*/\")\n",
    "df.add_user_transition(State.U2B, State.END, \"/.*/\")\n",
    "\n",
    "# DOES NOT HANDLE S3 CURRENTLY\n",
    "# TO DO FOR QUIZ 2\n",
    "\n",
    "df.add_system_transition(State.END, State.END, \"END REACHED\")\n",
    "\n",
    "# ERROR STATES\n",
    "df.add_system_transition(State.ERR, State.ERR, r\"[!i have failed]\")\n",
    "df.set_error_successor(State.U0, error_successor=State.ERR)\n",
    "df.set_error_successor(State.U2A, error_successor=State.ERR)\n",
    "df.set_error_successor(State.U2B, error_successor=State.ERR)\n",
    "df.set_error_successor(State.ERR, error_successor=State.ERR)\n",
    "df.set_error_successor(State.END, error_successor=State.END)\n",
    "\n",
    "\n",
    "df.run(debugging=False)"
   ]
  },
  {
   "cell_type": "markdown",
   "metadata": {
    "pycharm": {}
   },
   "source": [
    "## Using an Ontology"
   ]
  },
  {
   "cell_type": "markdown",
   "metadata": {
    "pycharm": {}
   },
   "source": [
    "*Ontology:* Hierarchy of concepts based on categorical groupings "
   ]
  },
  {
   "cell_type": "markdown",
   "metadata": {
    "pycharm": {}
   },
   "source": [
    "Here is a simple example of what an ontology can look like:\n",
    "* the highest level grouping is animal\n",
    "* where mammal and bird are subtypes of animal\n",
    "* where cat and dog are subtypes of mammal (and by the transitive property also subtypes of animal)\n",
    "* where parrot and dove and crow are subtypes of bird (and by the transitive property also subtypes of animal)\n",
    "* but mammal and bird are not subtypes of each other"
   ]
  },
  {
   "cell_type": "markdown",
   "metadata": {
    "pycharm": {}
   },
   "source": [
    "<img src=\"res/ont.jpg\" width=\"800\"/>"
   ]
  },
  {
   "cell_type": "markdown",
   "metadata": {
    "pycharm": {}
   },
   "source": [
    "Instead of specifying a disjunction of words in NatEx, it is often easier and more flexible to reference an ontology group."
   ]
  },
  {
   "cell_type": "markdown",
   "metadata": {
    "pycharm": {}
   },
   "source": [
    "You can make any arbitrary ontology that you want by building a python dictionary of the form:\n",
    "```  \n",
    "{\n",
    "    \"ontology\": {\n",
    "        \"category1\": [\n",
    "            \"item1\",\n",
    "            \"item2\",\n",
    "            ...\n",
    "        ],\n",
    "        \"category2\": [\n",
    "            ...\n",
    "        ]\n",
    "    }\n",
    "    \n",
    "}\n",
    "```"
   ]
  },
  {
   "cell_type": "code",
   "execution_count": null,
   "metadata": {},
   "outputs": [],
   "source": [
    "animal_d = {\"ontology\": \n",
    "                {\n",
    "                \"ontanimal\":\n",
    "                 [\n",
    "                     \"ontmammal\",\n",
    "                     \"ontbird\"\n",
    "                 ],\n",
    "                 \"ontmammal\": \n",
    "                 [\n",
    "                     \"cat\", \n",
    "                     \"dog\"\n",
    "                 ], \n",
    "                 \"ontbird\": \n",
    "                 [\n",
    "                     \"parrot\",\n",
    "                     \"dove\",\n",
    "                     \"crow\"\n",
    "                 ]\n",
    "                }\n",
    "           }"
   ]
  },
  {
   "cell_type": "markdown",
   "metadata": {
    "pycharm": {}
   },
   "source": [
    "ONT() is a built-in macro for referencing an ontology group in NatEx."
   ]
  },
  {
   "cell_type": "code",
   "execution_count": 1,
   "metadata": {
    "pycharm": {}
   },
   "outputs": [
    {
     "name": "stderr",
     "output_type": "stream",
     "text": [
      "[nltk_data] Downloading package wordnet to /Users/Sarah/nltk_data...\n",
      "[nltk_data]   Package wordnet is already up-to-date!\n"
     ]
    },
    {
     "name": "stdout",
     "output_type": "stream",
     "text": [
      "S: Enter an animal :\n",
      "U: cat\n",
      "S: cat is a mammal , enter another animal :\n",
      "U: parrot\n",
      "S: parrot is a bird , enter another animal :\n"
     ]
    },
    {
     "ename": "KeyboardInterrupt",
     "evalue": "",
     "output_type": "error",
     "traceback": [
      "\u001b[0;31m---------------------------------------------------------------------------\u001b[0m",
      "\u001b[0;31mKeyboardInterrupt\u001b[0m                         Traceback (most recent call last)",
      "\u001b[0;32m/anaconda2/envs/emora_cobot_env/lib/python3.7/site-packages/ipykernel/kernelbase.py\u001b[0m in \u001b[0;36m_input_request\u001b[0;34m(self, prompt, ident, parent, password)\u001b[0m\n\u001b[1;32m    883\u001b[0m             \u001b[0;32mtry\u001b[0m\u001b[0;34m:\u001b[0m\u001b[0;34m\u001b[0m\u001b[0;34m\u001b[0m\u001b[0m\n\u001b[0;32m--> 884\u001b[0;31m                 \u001b[0mident\u001b[0m\u001b[0;34m,\u001b[0m \u001b[0mreply\u001b[0m \u001b[0;34m=\u001b[0m \u001b[0mself\u001b[0m\u001b[0;34m.\u001b[0m\u001b[0msession\u001b[0m\u001b[0;34m.\u001b[0m\u001b[0mrecv\u001b[0m\u001b[0;34m(\u001b[0m\u001b[0mself\u001b[0m\u001b[0;34m.\u001b[0m\u001b[0mstdin_socket\u001b[0m\u001b[0;34m,\u001b[0m \u001b[0;36m0\u001b[0m\u001b[0;34m)\u001b[0m\u001b[0;34m\u001b[0m\u001b[0;34m\u001b[0m\u001b[0m\n\u001b[0m\u001b[1;32m    885\u001b[0m             \u001b[0;32mexcept\u001b[0m \u001b[0mException\u001b[0m\u001b[0;34m:\u001b[0m\u001b[0;34m\u001b[0m\u001b[0;34m\u001b[0m\u001b[0m\n",
      "\u001b[0;32m/anaconda2/envs/emora_cobot_env/lib/python3.7/site-packages/jupyter_client/session.py\u001b[0m in \u001b[0;36mrecv\u001b[0;34m(self, socket, mode, content, copy)\u001b[0m\n\u001b[1;32m    802\u001b[0m         \u001b[0;32mtry\u001b[0m\u001b[0;34m:\u001b[0m\u001b[0;34m\u001b[0m\u001b[0;34m\u001b[0m\u001b[0m\n\u001b[0;32m--> 803\u001b[0;31m             \u001b[0mmsg_list\u001b[0m \u001b[0;34m=\u001b[0m \u001b[0msocket\u001b[0m\u001b[0;34m.\u001b[0m\u001b[0mrecv_multipart\u001b[0m\u001b[0;34m(\u001b[0m\u001b[0mmode\u001b[0m\u001b[0;34m,\u001b[0m \u001b[0mcopy\u001b[0m\u001b[0;34m=\u001b[0m\u001b[0mcopy\u001b[0m\u001b[0;34m)\u001b[0m\u001b[0;34m\u001b[0m\u001b[0;34m\u001b[0m\u001b[0m\n\u001b[0m\u001b[1;32m    804\u001b[0m         \u001b[0;32mexcept\u001b[0m \u001b[0mzmq\u001b[0m\u001b[0;34m.\u001b[0m\u001b[0mZMQError\u001b[0m \u001b[0;32mas\u001b[0m \u001b[0me\u001b[0m\u001b[0;34m:\u001b[0m\u001b[0;34m\u001b[0m\u001b[0;34m\u001b[0m\u001b[0m\n",
      "\u001b[0;32m/anaconda2/envs/emora_cobot_env/lib/python3.7/site-packages/zmq/sugar/socket.py\u001b[0m in \u001b[0;36mrecv_multipart\u001b[0;34m(self, flags, copy, track)\u001b[0m\n\u001b[1;32m    474\u001b[0m         \"\"\"\n\u001b[0;32m--> 475\u001b[0;31m         \u001b[0mparts\u001b[0m \u001b[0;34m=\u001b[0m \u001b[0;34m[\u001b[0m\u001b[0mself\u001b[0m\u001b[0;34m.\u001b[0m\u001b[0mrecv\u001b[0m\u001b[0;34m(\u001b[0m\u001b[0mflags\u001b[0m\u001b[0;34m,\u001b[0m \u001b[0mcopy\u001b[0m\u001b[0;34m=\u001b[0m\u001b[0mcopy\u001b[0m\u001b[0;34m,\u001b[0m \u001b[0mtrack\u001b[0m\u001b[0;34m=\u001b[0m\u001b[0mtrack\u001b[0m\u001b[0;34m)\u001b[0m\u001b[0;34m]\u001b[0m\u001b[0;34m\u001b[0m\u001b[0;34m\u001b[0m\u001b[0m\n\u001b[0m\u001b[1;32m    476\u001b[0m         \u001b[0;31m# have first part already, only loop while more to receive\u001b[0m\u001b[0;34m\u001b[0m\u001b[0;34m\u001b[0m\u001b[0;34m\u001b[0m\u001b[0m\n",
      "\u001b[0;32mzmq/backend/cython/socket.pyx\u001b[0m in \u001b[0;36mzmq.backend.cython.socket.Socket.recv\u001b[0;34m()\u001b[0m\n",
      "\u001b[0;32mzmq/backend/cython/socket.pyx\u001b[0m in \u001b[0;36mzmq.backend.cython.socket.Socket.recv\u001b[0;34m()\u001b[0m\n",
      "\u001b[0;32mzmq/backend/cython/socket.pyx\u001b[0m in \u001b[0;36mzmq.backend.cython.socket._recv_copy\u001b[0;34m()\u001b[0m\n",
      "\u001b[0;32m/anaconda2/envs/emora_cobot_env/lib/python3.7/site-packages/zmq/backend/cython/checkrc.pxd\u001b[0m in \u001b[0;36mzmq.backend.cython.checkrc._check_rc\u001b[0;34m()\u001b[0m\n",
      "\u001b[0;31mKeyboardInterrupt\u001b[0m: ",
      "\nDuring handling of the above exception, another exception occurred:\n",
      "\u001b[0;31mKeyboardInterrupt\u001b[0m                         Traceback (most recent call last)",
      "\u001b[0;32m<ipython-input-1-bb0ee2dd06ba>\u001b[0m in \u001b[0;36m<module>\u001b[0;34m\u001b[0m\n\u001b[1;32m     42\u001b[0m \u001b[0mdf\u001b[0m\u001b[0;34m.\u001b[0m\u001b[0madd_system_transition\u001b[0m\u001b[0;34m(\u001b[0m\u001b[0mState\u001b[0m\u001b[0;34m.\u001b[0m\u001b[0mERR\u001b[0m\u001b[0;34m,\u001b[0m \u001b[0mState\u001b[0m\u001b[0;34m.\u001b[0m\u001b[0mPROMPT\u001b[0m\u001b[0;34m,\u001b[0m \u001b[0;34m'[! i dont know that one\",\" enter another animal\":\"]'\u001b[0m\u001b[0;34m)\u001b[0m\u001b[0;34m\u001b[0m\u001b[0;34m\u001b[0m\u001b[0m\n\u001b[1;32m     43\u001b[0m \u001b[0;34m\u001b[0m\u001b[0m\n\u001b[0;32m---> 44\u001b[0;31m \u001b[0mdf\u001b[0m\u001b[0;34m.\u001b[0m\u001b[0mrun\u001b[0m\u001b[0;34m(\u001b[0m\u001b[0mdebugging\u001b[0m\u001b[0;34m=\u001b[0m\u001b[0;32mFalse\u001b[0m\u001b[0;34m)\u001b[0m\u001b[0;34m\u001b[0m\u001b[0;34m\u001b[0m\u001b[0m\n\u001b[0m",
      "\u001b[0;32m/anaconda2/envs/emora_cobot_env/lib/python3.7/site-packages/emora_stdm/state_transition_dialogue_manager/dialogue_flow.py\u001b[0m in \u001b[0;36mrun\u001b[0;34m(self, debugging)\u001b[0m\n\u001b[1;32m     57\u001b[0m                 \u001b[0mprint\u001b[0m\u001b[0;34m(\u001b[0m\u001b[0;34m\"S:\"\u001b[0m\u001b[0;34m,\u001b[0m \u001b[0mself\u001b[0m\u001b[0;34m.\u001b[0m\u001b[0msystem_turn\u001b[0m\u001b[0;34m(\u001b[0m\u001b[0mdebugging\u001b[0m\u001b[0;34m=\u001b[0m\u001b[0mdebugging\u001b[0m\u001b[0;34m)\u001b[0m\u001b[0;34m)\u001b[0m\u001b[0;34m\u001b[0m\u001b[0;34m\u001b[0m\u001b[0m\n\u001b[1;32m     58\u001b[0m             \u001b[0;32melse\u001b[0m\u001b[0;34m:\u001b[0m\u001b[0;34m\u001b[0m\u001b[0;34m\u001b[0m\u001b[0m\n\u001b[0;32m---> 59\u001b[0;31m                 \u001b[0muser_input\u001b[0m \u001b[0;34m=\u001b[0m \u001b[0minput\u001b[0m\u001b[0;34m(\u001b[0m\u001b[0;34m\"U: \"\u001b[0m\u001b[0;34m)\u001b[0m\u001b[0;34m\u001b[0m\u001b[0;34m\u001b[0m\u001b[0m\n\u001b[0m\u001b[1;32m     60\u001b[0m                 \u001b[0mself\u001b[0m\u001b[0;34m.\u001b[0m\u001b[0muser_turn\u001b[0m\u001b[0;34m(\u001b[0m\u001b[0muser_input\u001b[0m\u001b[0;34m,\u001b[0m \u001b[0mdebugging\u001b[0m\u001b[0;34m=\u001b[0m\u001b[0mdebugging\u001b[0m\u001b[0;34m)\u001b[0m\u001b[0;34m\u001b[0m\u001b[0;34m\u001b[0m\u001b[0m\n\u001b[1;32m     61\u001b[0m \u001b[0;34m\u001b[0m\u001b[0m\n",
      "\u001b[0;32m/anaconda2/envs/emora_cobot_env/lib/python3.7/site-packages/ipykernel/kernelbase.py\u001b[0m in \u001b[0;36mraw_input\u001b[0;34m(self, prompt)\u001b[0m\n\u001b[1;32m    857\u001b[0m             \u001b[0mself\u001b[0m\u001b[0;34m.\u001b[0m\u001b[0m_parent_ident\u001b[0m\u001b[0;34m,\u001b[0m\u001b[0;34m\u001b[0m\u001b[0;34m\u001b[0m\u001b[0m\n\u001b[1;32m    858\u001b[0m             \u001b[0mself\u001b[0m\u001b[0;34m.\u001b[0m\u001b[0m_parent_header\u001b[0m\u001b[0;34m,\u001b[0m\u001b[0;34m\u001b[0m\u001b[0;34m\u001b[0m\u001b[0m\n\u001b[0;32m--> 859\u001b[0;31m             \u001b[0mpassword\u001b[0m\u001b[0;34m=\u001b[0m\u001b[0;32mFalse\u001b[0m\u001b[0;34m,\u001b[0m\u001b[0;34m\u001b[0m\u001b[0;34m\u001b[0m\u001b[0m\n\u001b[0m\u001b[1;32m    860\u001b[0m         )\n\u001b[1;32m    861\u001b[0m \u001b[0;34m\u001b[0m\u001b[0m\n",
      "\u001b[0;32m/anaconda2/envs/emora_cobot_env/lib/python3.7/site-packages/ipykernel/kernelbase.py\u001b[0m in \u001b[0;36m_input_request\u001b[0;34m(self, prompt, ident, parent, password)\u001b[0m\n\u001b[1;32m    887\u001b[0m             \u001b[0;32mexcept\u001b[0m \u001b[0mKeyboardInterrupt\u001b[0m\u001b[0;34m:\u001b[0m\u001b[0;34m\u001b[0m\u001b[0;34m\u001b[0m\u001b[0m\n\u001b[1;32m    888\u001b[0m                 \u001b[0;31m# re-raise KeyboardInterrupt, to truncate traceback\u001b[0m\u001b[0;34m\u001b[0m\u001b[0;34m\u001b[0m\u001b[0;34m\u001b[0m\u001b[0m\n\u001b[0;32m--> 889\u001b[0;31m                 \u001b[0;32mraise\u001b[0m \u001b[0mKeyboardInterrupt\u001b[0m\u001b[0;34m\u001b[0m\u001b[0;34m\u001b[0m\u001b[0m\n\u001b[0m\u001b[1;32m    890\u001b[0m             \u001b[0;32melse\u001b[0m\u001b[0;34m:\u001b[0m\u001b[0;34m\u001b[0m\u001b[0;34m\u001b[0m\u001b[0m\n\u001b[1;32m    891\u001b[0m                 \u001b[0;32mbreak\u001b[0m\u001b[0;34m\u001b[0m\u001b[0;34m\u001b[0m\u001b[0m\n",
      "\u001b[0;31mKeyboardInterrupt\u001b[0m: "
     ]
    }
   ],
   "source": [
    "from emora_stdm import KnowledgeBase, DialogueFlow\n",
    "from enum import Enum\n",
    "\n",
    "class State(Enum):\n",
    "    START = 0\n",
    "    PROMPT = 1\n",
    "    MAMMAL = 2\n",
    "    BIRD = 3\n",
    "    ERR = 4\n",
    "\n",
    "knowledge = KnowledgeBase()\n",
    "knowledge.load_json(animal_d)\n",
    "df = DialogueFlow(State.START, initial_speaker=DialogueFlow.Speaker.SYSTEM, kb=knowledge)\n",
    "df.add_state(State.PROMPT, error_successor=State.ERR)\n",
    "\n",
    "df.add_system_transition(State.START, State.PROMPT, 'Enter an animal\":\"')\n",
    "df.add_user_transition(State.PROMPT, State.MAMMAL, \"$animal=#ONT(ontmammal)\")\n",
    "df.add_user_transition(State.PROMPT, State.BIRD, \"$animal=#ONT(ontbird)\")\n",
    "df.add_system_transition(State.MAMMAL, State.PROMPT, '[! $animal is a mammal\",\" enter another animal\":\"]')\n",
    "df.add_system_transition(State.BIRD, State.PROMPT, '[! $animal is a bird\",\" enter another animal\":\"]')\n",
    "df.add_system_transition(State.ERR, State.PROMPT, '[! i dont know that one\",\" enter another animal\":\"]')\n",
    "\n",
    "df.run(debugging=False)"
   ]
  },
  {
   "cell_type": "code",
   "execution_count": null,
   "metadata": {
    "pycharm": {}
   },
   "outputs": [],
   "source": []
  }
 ],
 "metadata": {
  "kernelspec": {
   "display_name": "Python 3",
   "language": "python",
   "name": "python3"
  },
  "language_info": {
   "codemirror_mode": {
    "name": "ipython",
    "version": 3
   },
   "file_extension": ".py",
   "mimetype": "text/x-python",
   "name": "python",
   "nbconvert_exporter": "python",
   "pygments_lexer": "ipython3",
   "version": "3.7.4"
  }
 },
 "nbformat": 4,
 "nbformat_minor": 2
}
